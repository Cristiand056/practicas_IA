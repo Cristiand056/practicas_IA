{
  "nbformat": 4,
  "nbformat_minor": 0,
  "metadata": {
    "colab": {
      "provenance": [],
      "toc_visible": true,
      "include_colab_link": true
    },
    "kernelspec": {
      "name": "python3",
      "display_name": "Python 3"
    },
    "language_info": {
      "name": "python"
    }
  },
  "cells": [
    {
      "cell_type": "markdown",
      "metadata": {
        "id": "view-in-github",
        "colab_type": "text"
      },
      "source": [
        "<a href=\"https://colab.research.google.com/github/Cristiand056/practicas_IA/blob/main/CNN_Piedra_Papel_Tijeras.ipynb\" target=\"_parent\"><img src=\"https://colab.research.google.com/assets/colab-badge.svg\" alt=\"Open In Colab\"/></a>"
      ]
    },
    {
      "cell_type": "markdown",
      "source": [
        "#Tecnica simple para construir el dataset con nuevas imagenes"
      ],
      "metadata": {
        "id": "jwWyJ_5XJzt9"
      }
    },
    {
      "cell_type": "code",
      "source": [
        "pip install rembg"
      ],
      "metadata": {
        "collapsed": true,
        "id": "MHybODTVHRaH",
        "colab": {
          "base_uri": "https://localhost:8080/"
        },
        "outputId": "84466066-259e-420a-d174-7f236c5f7e3c"
      },
      "execution_count": null,
      "outputs": [
        {
          "output_type": "stream",
          "name": "stdout",
          "text": [
            "Collecting rembg\n",
            "  Downloading rembg-2.0.57-py3-none-any.whl (33 kB)\n",
            "Requirement already satisfied: jsonschema in /usr/local/lib/python3.10/dist-packages (from rembg) (4.19.2)\n",
            "Requirement already satisfied: numpy in /usr/local/lib/python3.10/dist-packages (from rembg) (1.25.2)\n",
            "Collecting onnxruntime (from rembg)\n",
            "  Downloading onnxruntime-1.18.1-cp310-cp310-manylinux_2_27_x86_64.manylinux_2_28_x86_64.whl (6.8 MB)\n",
            "\u001b[2K     \u001b[90m━━━━━━━━━━━━━━━━━━━━━━━━━━━━━━━━━━━━━━━━\u001b[0m \u001b[32m6.8/6.8 MB\u001b[0m \u001b[31m15.1 MB/s\u001b[0m eta \u001b[36m0:00:00\u001b[0m\n",
            "\u001b[?25hRequirement already satisfied: opencv-python-headless in /usr/local/lib/python3.10/dist-packages (from rembg) (4.10.0.84)\n",
            "Requirement already satisfied: pillow in /usr/local/lib/python3.10/dist-packages (from rembg) (9.4.0)\n",
            "Requirement already satisfied: pooch in /usr/local/lib/python3.10/dist-packages (from rembg) (1.8.2)\n",
            "Collecting pymatting (from rembg)\n",
            "  Downloading PyMatting-1.1.12-py3-none-any.whl (52 kB)\n",
            "\u001b[2K     \u001b[90m━━━━━━━━━━━━━━━━━━━━━━━━━━━━━━━━━━━━━━━━\u001b[0m \u001b[32m53.0/53.0 kB\u001b[0m \u001b[31m4.4 MB/s\u001b[0m eta \u001b[36m0:00:00\u001b[0m\n",
            "\u001b[?25hRequirement already satisfied: scikit-image in /usr/local/lib/python3.10/dist-packages (from rembg) (0.19.3)\n",
            "Requirement already satisfied: scipy in /usr/local/lib/python3.10/dist-packages (from rembg) (1.11.4)\n",
            "Requirement already satisfied: tqdm in /usr/local/lib/python3.10/dist-packages (from rembg) (4.66.4)\n",
            "Requirement already satisfied: attrs>=22.2.0 in /usr/local/lib/python3.10/dist-packages (from jsonschema->rembg) (23.2.0)\n",
            "Requirement already satisfied: jsonschema-specifications>=2023.03.6 in /usr/local/lib/python3.10/dist-packages (from jsonschema->rembg) (2023.12.1)\n",
            "Requirement already satisfied: referencing>=0.28.4 in /usr/local/lib/python3.10/dist-packages (from jsonschema->rembg) (0.35.1)\n",
            "Requirement already satisfied: rpds-py>=0.7.1 in /usr/local/lib/python3.10/dist-packages (from jsonschema->rembg) (0.18.1)\n",
            "Collecting coloredlogs (from onnxruntime->rembg)\n",
            "  Downloading coloredlogs-15.0.1-py2.py3-none-any.whl (46 kB)\n",
            "\u001b[2K     \u001b[90m━━━━━━━━━━━━━━━━━━━━━━━━━━━━━━━━━━━━━━━━\u001b[0m \u001b[32m46.0/46.0 kB\u001b[0m \u001b[31m2.4 MB/s\u001b[0m eta \u001b[36m0:00:00\u001b[0m\n",
            "\u001b[?25hRequirement already satisfied: flatbuffers in /usr/local/lib/python3.10/dist-packages (from onnxruntime->rembg) (24.3.25)\n",
            "Requirement already satisfied: packaging in /usr/local/lib/python3.10/dist-packages (from onnxruntime->rembg) (24.1)\n",
            "Requirement already satisfied: protobuf in /usr/local/lib/python3.10/dist-packages (from onnxruntime->rembg) (3.20.3)\n",
            "Requirement already satisfied: sympy in /usr/local/lib/python3.10/dist-packages (from onnxruntime->rembg) (1.12.1)\n",
            "Requirement already satisfied: platformdirs>=2.5.0 in /usr/local/lib/python3.10/dist-packages (from pooch->rembg) (4.2.2)\n",
            "Requirement already satisfied: requests>=2.19.0 in /usr/local/lib/python3.10/dist-packages (from pooch->rembg) (2.31.0)\n",
            "Requirement already satisfied: numba!=0.49.0 in /usr/local/lib/python3.10/dist-packages (from pymatting->rembg) (0.58.1)\n",
            "Requirement already satisfied: networkx>=2.2 in /usr/local/lib/python3.10/dist-packages (from scikit-image->rembg) (3.3)\n",
            "Requirement already satisfied: imageio>=2.4.1 in /usr/local/lib/python3.10/dist-packages (from scikit-image->rembg) (2.31.6)\n",
            "Requirement already satisfied: tifffile>=2019.7.26 in /usr/local/lib/python3.10/dist-packages (from scikit-image->rembg) (2024.6.18)\n",
            "Requirement already satisfied: PyWavelets>=1.1.1 in /usr/local/lib/python3.10/dist-packages (from scikit-image->rembg) (1.6.0)\n",
            "Requirement already satisfied: llvmlite<0.42,>=0.41.0dev0 in /usr/local/lib/python3.10/dist-packages (from numba!=0.49.0->pymatting->rembg) (0.41.1)\n",
            "Requirement already satisfied: charset-normalizer<4,>=2 in /usr/local/lib/python3.10/dist-packages (from requests>=2.19.0->pooch->rembg) (3.3.2)\n",
            "Requirement already satisfied: idna<4,>=2.5 in /usr/local/lib/python3.10/dist-packages (from requests>=2.19.0->pooch->rembg) (3.7)\n",
            "Requirement already satisfied: urllib3<3,>=1.21.1 in /usr/local/lib/python3.10/dist-packages (from requests>=2.19.0->pooch->rembg) (2.0.7)\n",
            "Requirement already satisfied: certifi>=2017.4.17 in /usr/local/lib/python3.10/dist-packages (from requests>=2.19.0->pooch->rembg) (2024.6.2)\n",
            "Collecting humanfriendly>=9.1 (from coloredlogs->onnxruntime->rembg)\n",
            "  Downloading humanfriendly-10.0-py2.py3-none-any.whl (86 kB)\n",
            "\u001b[2K     \u001b[90m━━━━━━━━━━━━━━━━━━━━━━━━━━━━━━━━━━━━━━━━\u001b[0m \u001b[32m86.8/86.8 kB\u001b[0m \u001b[31m2.9 MB/s\u001b[0m eta \u001b[36m0:00:00\u001b[0m\n",
            "\u001b[?25hRequirement already satisfied: mpmath<1.4.0,>=1.1.0 in /usr/local/lib/python3.10/dist-packages (from sympy->onnxruntime->rembg) (1.3.0)\n",
            "Installing collected packages: humanfriendly, pymatting, coloredlogs, onnxruntime, rembg\n",
            "Successfully installed coloredlogs-15.0.1 humanfriendly-10.0 onnxruntime-1.18.1 pymatting-1.1.12 rembg-2.0.57\n"
          ]
        }
      ]
    },
    {
      "cell_type": "markdown",
      "source": [
        "# Desarrollo del modelo para CNN"
      ],
      "metadata": {
        "id": "dDQJjLPQANF_"
      }
    },
    {
      "cell_type": "markdown",
      "source": [
        "## Preprocesamiento de los datos"
      ],
      "metadata": {
        "id": "831bLHWBJ2Sp"
      }
    },
    {
      "cell_type": "markdown",
      "source": [
        "[Dataset para usar como base del modelo](https://github.com/CodigoMaquina/code/blob/main/datos/piedra_papel_tijera.zip)"
      ],
      "metadata": {
        "id": "Vouf7MRYFBMf"
      }
    },
    {
      "cell_type": "code",
      "source": [
        "#librerias\n",
        "import tensorflow as tf\n",
        "import numpy as np\n",
        "from PIL import Image\n",
        "import pathlib\n",
        "import matplotlib.pyplot as plt\n",
        "import random"
      ],
      "metadata": {
        "id": "ZexzH_P4F-gc"
      },
      "execution_count": null,
      "outputs": []
    },
    {
      "cell_type": "code",
      "execution_count": null,
      "metadata": {
        "id": "-7NMH7tBElQe"
      },
      "outputs": [],
      "source": [
        "#cargar el dataset\n",
        "url = 'https://github.com/CodigoMaquina/code/raw/main/datos/piedra_papel_tijera.zip'"
      ]
    },
    {
      "cell_type": "code",
      "source": [
        "archivo = tf.keras.utils.get_file(origin=url,archive_format='zip', extract=True)"
      ],
      "metadata": {
        "id": "QSxOar3oWIAM",
        "colab": {
          "base_uri": "https://localhost:8080/"
        },
        "outputId": "6c78017d-86cc-4df3-b74a-9d03cec9027e"
      },
      "execution_count": null,
      "outputs": [
        {
          "output_type": "stream",
          "name": "stdout",
          "text": [
            "Downloading data from https://github.com/CodigoMaquina/code/raw/main/datos/piedra_papel_tijera.zip\n",
            "1100593/1100593 [==============================] - 0s 0us/step\n"
          ]
        }
      ]
    },
    {
      "cell_type": "code",
      "source": [
        "ruta=str(pathlib.Path(archivo)).replace('.zip','')\n",
        "print(ruta)"
      ],
      "metadata": {
        "colab": {
          "base_uri": "https://localhost:8080/"
        },
        "id": "J4OlhMIdPgLq",
        "outputId": "b4c48fca-758b-456b-8faf-1adfe097217c"
      },
      "execution_count": null,
      "outputs": [
        {
          "output_type": "stream",
          "name": "stdout",
          "text": [
            "/root/.keras/datasets/piedra_papel_tijera\n"
          ]
        }
      ]
    },
    {
      "cell_type": "code",
      "source": [
        "#descripcion de clases y su indentificador\n",
        "descripcion=('papel', 'piedra', 'tijera')\n",
        "clases={'papel':0,'piedra':1,'tijera':2}\n",
        "\n",
        "#numero de imagenes por clase\n",
        "num_img_clase=700\n",
        "\n",
        "#imagenes de entrenamiento 80% -> 560\n",
        "num_entrena=round(num_img_clase*0.80)\n",
        "#print(num_entrena)\n",
        "\n",
        "#imagenes de prueba 20% -> 140\n",
        "num_prueba=round(num_img_clase*0.20)\n",
        "#print(num_prueba)\n"
      ],
      "metadata": {
        "id": "6zl3JgLwKf3E"
      },
      "execution_count": null,
      "outputs": []
    },
    {
      "cell_type": "code",
      "source": [
        "#creacion de los arreglos para almacenar los datos de entrenamiento para las 3 clases\n",
        "#las imagenes son 30 de ancho y 20 alto\n",
        "imagenes_entrena=np.empty((num_entrena*len(clases),20,30),dtype='uint8')\n",
        "clases_entrena=np.empty(num_entrena * len(clases), dtype='uint8')"
      ],
      "metadata": {
        "id": "wOIMathpL-O8"
      },
      "execution_count": null,
      "outputs": []
    },
    {
      "cell_type": "code",
      "source": [
        "#creacion de los arreglos para almacenar los datos de prueba para las 3 clases\n",
        "#las imagenes son 30 de ancho y 20 alto\n",
        "imagenes_prueba=np.empty((num_prueba*len(clases),20,30),dtype='uint8')\n",
        "clases_prueba=np.empty(num_prueba * len(clases), dtype='uint8')"
      ],
      "metadata": {
        "id": "8BEmtcyjTfvm"
      },
      "execution_count": null,
      "outputs": []
    },
    {
      "cell_type": "code",
      "source": [
        "#cargar los datos de entrenamiento y prueba\n",
        "#tf.keras.utils.image_dataset_from_directory(ruta,image_size=(20,30))\n",
        "\n",
        "#cargar todo el conjunto de datos para entrenamiento de las imagenes de cada clase del 0 hasta 559\n",
        "for i in range(num_entrena):\n",
        "  for clase in clases:\n",
        "    imagen=Image.open(ruta+'/'+clase+'/'+str(i)+'.png')\n",
        "    indice_instancia=i+clases[clase] * num_entrena\n",
        "    imagenes_entrena[indice_instancia]=np.array(imagen)\n",
        "    clases_entrena[indice_instancia]=clases[clase]\n",
        "\n",
        "#cargar todo el conjunto de datos para prueba de las imagenes de cada clase del 560 hasta 699\n",
        "for j in range(num_entrena, num_img_clase):\n",
        "  for clase in clases:\n",
        "    imagen=Image.open(ruta+'/'+clase+'/'+str(j)+'.png')\n",
        "    indice_instancia=j+clases[clase] * num_prueba - num_entrena\n",
        "    imagenes_prueba[indice_instancia]=np.array(imagen)\n",
        "    clases_prueba[indice_instancia]=clases[clase]"
      ],
      "metadata": {
        "id": "I5mQ5bJ4NjVf"
      },
      "execution_count": null,
      "outputs": []
    },
    {
      "cell_type": "markdown",
      "source": [
        "##Normalizar - Escalar"
      ],
      "metadata": {
        "id": "S6g0nTOtKU5L"
      }
    },
    {
      "cell_type": "code",
      "source": [
        "imagenes_entrena=imagenes_entrena/255\n",
        "imagenes_prueba=imagenes_prueba/255"
      ],
      "metadata": {
        "id": "86G4TLLGKWyE"
      },
      "execution_count": null,
      "outputs": []
    },
    {
      "cell_type": "markdown",
      "source": [
        "## Entrenamiento del modelo"
      ],
      "metadata": {
        "id": "GvQ9lKDHJyAZ"
      }
    },
    {
      "cell_type": "markdown",
      "source": [
        "### Creando el modelo de la red neuronal artificial (MLP)"
      ],
      "metadata": {
        "id": "akztt6s8NbF1"
      }
    },
    {
      "cell_type": "code",
      "source": [
        "modelo= tf.keras.Sequential([\n",
        "    tf.keras.layers.Flatten(input_shape=(20,30)),\n",
        "    tf.keras.layers.Dense(64,activation='relu'),\n",
        "    tf.keras.layers.Dense(3),\n",
        "    tf.keras.layers.Softmax()\n",
        "])"
      ],
      "metadata": {
        "id": "qg57HRc5JxkN"
      },
      "execution_count": null,
      "outputs": []
    },
    {
      "cell_type": "markdown",
      "source": [
        "### Compilar el modelo para entrenamiento"
      ],
      "metadata": {
        "id": "BXdR0AKTNmbJ"
      }
    },
    {
      "cell_type": "code",
      "source": [
        "modelo.compile(optimizer='sgd',loss=tf.keras.losses.SparseCategoricalCrossentropy(),\n",
        "               metrics=['accuracy'])"
      ],
      "metadata": {
        "id": "jM8toRFqHENn"
      },
      "execution_count": null,
      "outputs": []
    },
    {
      "cell_type": "markdown",
      "source": [
        "### Ajuste del modelo"
      ],
      "metadata": {
        "id": "xfsquYF4OmQq"
      }
    },
    {
      "cell_type": "code",
      "source": [
        "modelo.fit(imagenes_entrena, clases_entrena, epochs=50)"
      ],
      "metadata": {
        "colab": {
          "base_uri": "https://localhost:8080/"
        },
        "collapsed": true,
        "id": "Sd6Q1WSkOrtx",
        "outputId": "d8759680-7da1-4503-fd3b-db7083ddce26"
      },
      "execution_count": null,
      "outputs": [
        {
          "output_type": "stream",
          "name": "stdout",
          "text": [
            "Epoch 1/50\n",
            "53/53 [==============================] - 1s 2ms/step - loss: 1.0729 - accuracy: 0.4357\n",
            "Epoch 2/50\n",
            "53/53 [==============================] - 0s 3ms/step - loss: 0.9520 - accuracy: 0.5631\n",
            "Epoch 3/50\n",
            "53/53 [==============================] - 0s 3ms/step - loss: 0.9108 - accuracy: 0.6012\n",
            "Epoch 4/50\n",
            "53/53 [==============================] - 0s 2ms/step - loss: 0.8276 - accuracy: 0.6554\n",
            "Epoch 5/50\n",
            "53/53 [==============================] - 0s 2ms/step - loss: 0.7852 - accuracy: 0.6810\n",
            "Epoch 6/50\n",
            "53/53 [==============================] - 0s 2ms/step - loss: 0.7231 - accuracy: 0.7190\n",
            "Epoch 7/50\n",
            "53/53 [==============================] - 0s 2ms/step - loss: 0.7117 - accuracy: 0.7274\n",
            "Epoch 8/50\n",
            "53/53 [==============================] - 0s 2ms/step - loss: 0.7060 - accuracy: 0.7185\n",
            "Epoch 9/50\n",
            "53/53 [==============================] - 0s 3ms/step - loss: 0.6723 - accuracy: 0.7423\n",
            "Epoch 10/50\n",
            "53/53 [==============================] - 0s 4ms/step - loss: 0.6372 - accuracy: 0.7637\n",
            "Epoch 11/50\n",
            "53/53 [==============================] - 0s 2ms/step - loss: 0.6100 - accuracy: 0.7690\n",
            "Epoch 12/50\n",
            "53/53 [==============================] - 0s 2ms/step - loss: 0.5970 - accuracy: 0.7673\n",
            "Epoch 13/50\n",
            "53/53 [==============================] - 0s 3ms/step - loss: 0.5997 - accuracy: 0.7583\n",
            "Epoch 14/50\n",
            "53/53 [==============================] - 0s 3ms/step - loss: 0.5624 - accuracy: 0.7946\n",
            "Epoch 15/50\n",
            "53/53 [==============================] - 0s 3ms/step - loss: 0.5593 - accuracy: 0.8024\n",
            "Epoch 16/50\n",
            "53/53 [==============================] - 0s 3ms/step - loss: 0.5405 - accuracy: 0.8071\n",
            "Epoch 17/50\n",
            "53/53 [==============================] - 0s 3ms/step - loss: 0.5393 - accuracy: 0.7964\n",
            "Epoch 18/50\n",
            "53/53 [==============================] - 0s 2ms/step - loss: 0.5418 - accuracy: 0.7982\n",
            "Epoch 19/50\n",
            "53/53 [==============================] - 0s 3ms/step - loss: 0.5593 - accuracy: 0.7905\n",
            "Epoch 20/50\n",
            "53/53 [==============================] - 0s 3ms/step - loss: 0.5373 - accuracy: 0.8012\n",
            "Epoch 21/50\n",
            "53/53 [==============================] - 0s 3ms/step - loss: 0.5042 - accuracy: 0.8131\n",
            "Epoch 22/50\n",
            "53/53 [==============================] - 0s 3ms/step - loss: 0.5129 - accuracy: 0.8125\n",
            "Epoch 23/50\n",
            "53/53 [==============================] - 0s 2ms/step - loss: 0.4979 - accuracy: 0.8268\n",
            "Epoch 24/50\n",
            "53/53 [==============================] - 0s 2ms/step - loss: 0.4816 - accuracy: 0.8327\n",
            "Epoch 25/50\n",
            "53/53 [==============================] - 0s 2ms/step - loss: 0.4776 - accuracy: 0.8351\n",
            "Epoch 26/50\n",
            "53/53 [==============================] - 0s 2ms/step - loss: 0.4931 - accuracy: 0.8232\n",
            "Epoch 27/50\n",
            "53/53 [==============================] - 0s 2ms/step - loss: 0.4678 - accuracy: 0.8500\n",
            "Epoch 28/50\n",
            "53/53 [==============================] - 0s 2ms/step - loss: 0.4735 - accuracy: 0.8286\n",
            "Epoch 29/50\n",
            "53/53 [==============================] - 0s 2ms/step - loss: 0.4527 - accuracy: 0.8417\n",
            "Epoch 30/50\n",
            "53/53 [==============================] - 0s 2ms/step - loss: 0.4537 - accuracy: 0.8405\n",
            "Epoch 31/50\n",
            "53/53 [==============================] - 0s 3ms/step - loss: 0.4511 - accuracy: 0.8476\n",
            "Epoch 32/50\n",
            "53/53 [==============================] - 0s 2ms/step - loss: 0.4444 - accuracy: 0.8405\n",
            "Epoch 33/50\n",
            "53/53 [==============================] - 0s 2ms/step - loss: 0.4319 - accuracy: 0.8476\n",
            "Epoch 34/50\n",
            "53/53 [==============================] - 0s 2ms/step - loss: 0.4494 - accuracy: 0.8327\n",
            "Epoch 35/50\n",
            "53/53 [==============================] - 0s 2ms/step - loss: 0.4292 - accuracy: 0.8440\n",
            "Epoch 36/50\n",
            "53/53 [==============================] - 0s 2ms/step - loss: 0.4273 - accuracy: 0.8571\n",
            "Epoch 37/50\n",
            "53/53 [==============================] - 0s 3ms/step - loss: 0.4461 - accuracy: 0.8357\n",
            "Epoch 38/50\n",
            "53/53 [==============================] - 0s 2ms/step - loss: 0.4301 - accuracy: 0.8530\n",
            "Epoch 39/50\n",
            "53/53 [==============================] - 0s 2ms/step - loss: 0.4222 - accuracy: 0.8464\n",
            "Epoch 40/50\n",
            "53/53 [==============================] - 0s 2ms/step - loss: 0.4021 - accuracy: 0.8613\n",
            "Epoch 41/50\n",
            "53/53 [==============================] - 0s 2ms/step - loss: 0.4092 - accuracy: 0.8571\n",
            "Epoch 42/50\n",
            "53/53 [==============================] - 0s 2ms/step - loss: 0.3902 - accuracy: 0.8613\n",
            "Epoch 43/50\n",
            "53/53 [==============================] - 0s 2ms/step - loss: 0.4212 - accuracy: 0.8601\n",
            "Epoch 44/50\n",
            "53/53 [==============================] - 0s 2ms/step - loss: 0.4100 - accuracy: 0.8595\n",
            "Epoch 45/50\n",
            "53/53 [==============================] - 0s 2ms/step - loss: 0.4011 - accuracy: 0.8690\n",
            "Epoch 46/50\n",
            "53/53 [==============================] - 0s 2ms/step - loss: 0.4102 - accuracy: 0.8536\n",
            "Epoch 47/50\n",
            "53/53 [==============================] - 0s 2ms/step - loss: 0.4037 - accuracy: 0.8488\n",
            "Epoch 48/50\n",
            "53/53 [==============================] - 0s 2ms/step - loss: 0.3898 - accuracy: 0.8577\n",
            "Epoch 49/50\n",
            "53/53 [==============================] - 0s 2ms/step - loss: 0.3973 - accuracy: 0.8679\n",
            "Epoch 50/50\n",
            "53/53 [==============================] - 0s 2ms/step - loss: 0.3747 - accuracy: 0.8696\n"
          ]
        },
        {
          "output_type": "execute_result",
          "data": {
            "text/plain": [
              "<keras.src.callbacks.History at 0x7fdef84f5660>"
            ]
          },
          "metadata": {},
          "execution_count": 13
        }
      ]
    },
    {
      "cell_type": "markdown",
      "source": [
        "## Evaluacion del modelo"
      ],
      "metadata": {
        "id": "q8PsHX-2PLuR"
      }
    },
    {
      "cell_type": "code",
      "source": [
        "predicciones = modelo.predict(imagenes_prueba)"
      ],
      "metadata": {
        "colab": {
          "base_uri": "https://localhost:8080/"
        },
        "id": "6sPbqfVMPOON",
        "outputId": "243dba19-c1e8-4838-cfcf-6fc3bece88ca"
      },
      "execution_count": null,
      "outputs": [
        {
          "output_type": "stream",
          "name": "stdout",
          "text": [
            "14/14 [==============================] - 0s 1ms/step\n"
          ]
        }
      ]
    },
    {
      "cell_type": "code",
      "source": [
        "perdida,precision = modelo.evaluate(imagenes_prueba, clases_prueba)\n",
        "print('Precision del modelo: ',precision)"
      ],
      "metadata": {
        "colab": {
          "base_uri": "https://localhost:8080/"
        },
        "id": "T80Xgk2MPfMr",
        "outputId": "28e0f1ea-9810-4a05-f1df-92f61fa39e86"
      },
      "execution_count": null,
      "outputs": [
        {
          "output_type": "stream",
          "name": "stdout",
          "text": [
            "14/14 [==============================] - 0s 2ms/step - loss: 0.4110 - accuracy: 0.8524\n",
            "Precision del modelo:  0.8523809313774109\n"
          ]
        }
      ]
    },
    {
      "cell_type": "markdown",
      "source": [
        "## Ejemplo de Prueba del modelo"
      ],
      "metadata": {
        "id": "qLO9HXyVP3dl"
      }
    },
    {
      "cell_type": "code",
      "source": [
        "#crecion de arreglo para almacenar todas las predicciones\n",
        "clase_predicha=np.empty(num_prueba*len(clases), dtype='uint8')\n",
        "\n",
        "for instancia in range(num_prueba*len(clases)):\n",
        "  #almacena clase predicha para cada imagen dada\n",
        "  clase_predicha[instancia]=np.argmax(predicciones[instancia])\n",
        "  if clase_predicha[instancia] == clases_prueba[instancia]:\n",
        "    print('% Probabilidades: ',predicciones[instancia],\n",
        "          'Clase predicha: ',clase_predicha[instancia],\n",
        "          'Clase correcta: ',clases_prueba[instancia],\n",
        "          'La red Neuronal esta poderosa :D')\n",
        "  else:\n",
        "    print('% Probabilidades: ',predicciones[instancia],\n",
        "          'Clase predicha: ',clase_predicha[instancia],\n",
        "          'Clase correcta: ',clases_prueba[instancia],\n",
        "          'La red Neuronal esta barro :(')"
      ],
      "metadata": {
        "colab": {
          "base_uri": "https://localhost:8080/"
        },
        "collapsed": true,
        "id": "nPAqCStMP-IO",
        "outputId": "dba0ff80-504b-4862-ade5-57b680f6050d"
      },
      "execution_count": null,
      "outputs": [
        {
          "output_type": "stream",
          "name": "stdout",
          "text": [
            "% Probabilidades:  [0.96302396 0.00379017 0.03318591] Clase predicha:  0 Clase correcta:  0 La red Neuronal esta poderosa :D\n",
            "% Probabilidades:  [0.88915116 0.10605516 0.00479363] Clase predicha:  0 Clase correcta:  0 La red Neuronal esta poderosa :D\n",
            "% Probabilidades:  [0.9895051  0.0076006  0.00289425] Clase predicha:  0 Clase correcta:  0 La red Neuronal esta poderosa :D\n",
            "% Probabilidades:  [0.8067121  0.11949391 0.07379401] Clase predicha:  0 Clase correcta:  0 La red Neuronal esta poderosa :D\n",
            "% Probabilidades:  [0.43296418 0.02293465 0.5441012 ] Clase predicha:  2 Clase correcta:  0 La red Neuronal esta barro :(\n",
            "% Probabilidades:  [0.02617705 0.03029782 0.94352514] Clase predicha:  2 Clase correcta:  0 La red Neuronal esta barro :(\n",
            "% Probabilidades:  [9.9360585e-01 5.7495399e-03 6.4453110e-04] Clase predicha:  0 Clase correcta:  0 La red Neuronal esta poderosa :D\n",
            "% Probabilidades:  [0.6126074  0.3841876  0.00320502] Clase predicha:  0 Clase correcta:  0 La red Neuronal esta poderosa :D\n",
            "% Probabilidades:  [0.9800891  0.01862866 0.00128228] Clase predicha:  0 Clase correcta:  0 La red Neuronal esta poderosa :D\n",
            "% Probabilidades:  [0.84019196 0.04814458 0.11166353] Clase predicha:  0 Clase correcta:  0 La red Neuronal esta poderosa :D\n",
            "% Probabilidades:  [0.93445075 0.01897222 0.046577  ] Clase predicha:  0 Clase correcta:  0 La red Neuronal esta poderosa :D\n",
            "% Probabilidades:  [0.99170774 0.00528664 0.00300568] Clase predicha:  0 Clase correcta:  0 La red Neuronal esta poderosa :D\n",
            "% Probabilidades:  [0.9743164  0.0043426  0.02134099] Clase predicha:  0 Clase correcta:  0 La red Neuronal esta poderosa :D\n",
            "% Probabilidades:  [0.99150187 0.00589995 0.00259817] Clase predicha:  0 Clase correcta:  0 La red Neuronal esta poderosa :D\n",
            "% Probabilidades:  [0.98780334 0.00339226 0.00880432] Clase predicha:  0 Clase correcta:  0 La red Neuronal esta poderosa :D\n",
            "% Probabilidades:  [0.7341    0.0478167 0.2180834] Clase predicha:  0 Clase correcta:  0 La red Neuronal esta poderosa :D\n",
            "% Probabilidades:  [0.9830634  0.00490028 0.01203622] Clase predicha:  0 Clase correcta:  0 La red Neuronal esta poderosa :D\n",
            "% Probabilidades:  [0.9828579  0.00998228 0.00715972] Clase predicha:  0 Clase correcta:  0 La red Neuronal esta poderosa :D\n",
            "% Probabilidades:  [0.10577701 0.02162214 0.87260085] Clase predicha:  2 Clase correcta:  0 La red Neuronal esta barro :(\n",
            "% Probabilidades:  [0.98720497 0.00279343 0.01000162] Clase predicha:  0 Clase correcta:  0 La red Neuronal esta poderosa :D\n",
            "% Probabilidades:  [0.99636084 0.00128033 0.00235882] Clase predicha:  0 Clase correcta:  0 La red Neuronal esta poderosa :D\n",
            "% Probabilidades:  [0.8260943  0.05953338 0.11437225] Clase predicha:  0 Clase correcta:  0 La red Neuronal esta poderosa :D\n",
            "% Probabilidades:  [0.9955562  0.00309876 0.00134506] Clase predicha:  0 Clase correcta:  0 La red Neuronal esta poderosa :D\n",
            "% Probabilidades:  [0.67677873 0.03517409 0.28804702] Clase predicha:  0 Clase correcta:  0 La red Neuronal esta poderosa :D\n",
            "% Probabilidades:  [0.9680748  0.01435487 0.01757036] Clase predicha:  0 Clase correcta:  0 La red Neuronal esta poderosa :D\n",
            "% Probabilidades:  [0.9713973  0.02664544 0.00195718] Clase predicha:  0 Clase correcta:  0 La red Neuronal esta poderosa :D\n",
            "% Probabilidades:  [0.1148544  0.70893216 0.17621338] Clase predicha:  1 Clase correcta:  0 La red Neuronal esta barro :(\n",
            "% Probabilidades:  [0.990617   0.0029313  0.00645177] Clase predicha:  0 Clase correcta:  0 La red Neuronal esta poderosa :D\n",
            "% Probabilidades:  [0.83352673 0.01410973 0.15236351] Clase predicha:  0 Clase correcta:  0 La red Neuronal esta poderosa :D\n",
            "% Probabilidades:  [0.92777264 0.01942523 0.05280219] Clase predicha:  0 Clase correcta:  0 La red Neuronal esta poderosa :D\n",
            "% Probabilidades:  [0.74129146 0.01919113 0.23951735] Clase predicha:  0 Clase correcta:  0 La red Neuronal esta poderosa :D\n",
            "% Probabilidades:  [0.9910185  0.00204261 0.00693892] Clase predicha:  0 Clase correcta:  0 La red Neuronal esta poderosa :D\n",
            "% Probabilidades:  [0.6552901  0.16726156 0.17744836] Clase predicha:  0 Clase correcta:  0 La red Neuronal esta poderosa :D\n",
            "% Probabilidades:  [0.47344357 0.02585675 0.50069964] Clase predicha:  2 Clase correcta:  0 La red Neuronal esta barro :(\n",
            "% Probabilidades:  [0.16492917 0.5556041  0.27946663] Clase predicha:  1 Clase correcta:  0 La red Neuronal esta barro :(\n",
            "% Probabilidades:  [0.9931646  0.00448602 0.00234937] Clase predicha:  0 Clase correcta:  0 La red Neuronal esta poderosa :D\n",
            "% Probabilidades:  [0.9886689  0.00143035 0.00990076] Clase predicha:  0 Clase correcta:  0 La red Neuronal esta poderosa :D\n",
            "% Probabilidades:  [0.59051126 0.02684939 0.3826393 ] Clase predicha:  0 Clase correcta:  0 La red Neuronal esta poderosa :D\n",
            "% Probabilidades:  [0.98177814 0.00776499 0.01045693] Clase predicha:  0 Clase correcta:  0 La red Neuronal esta poderosa :D\n",
            "% Probabilidades:  [0.99443114 0.00396166 0.00160724] Clase predicha:  0 Clase correcta:  0 La red Neuronal esta poderosa :D\n",
            "% Probabilidades:  [0.9870501  0.0061681  0.00678181] Clase predicha:  0 Clase correcta:  0 La red Neuronal esta poderosa :D\n",
            "% Probabilidades:  [0.991242   0.00400267 0.0047555 ] Clase predicha:  0 Clase correcta:  0 La red Neuronal esta poderosa :D\n",
            "% Probabilidades:  [0.69520944 0.09784324 0.20694722] Clase predicha:  0 Clase correcta:  0 La red Neuronal esta poderosa :D\n",
            "% Probabilidades:  [0.14098243 0.70596015 0.15305746] Clase predicha:  1 Clase correcta:  0 La red Neuronal esta barro :(\n",
            "% Probabilidades:  [0.9410472  0.02247606 0.03647674] Clase predicha:  0 Clase correcta:  0 La red Neuronal esta poderosa :D\n",
            "% Probabilidades:  [0.77802914 0.22011673 0.00185409] Clase predicha:  0 Clase correcta:  0 La red Neuronal esta poderosa :D\n",
            "% Probabilidades:  [0.97479427 0.00396994 0.02123577] Clase predicha:  0 Clase correcta:  0 La red Neuronal esta poderosa :D\n",
            "% Probabilidades:  [0.3442267  0.01663292 0.6391404 ] Clase predicha:  2 Clase correcta:  0 La red Neuronal esta barro :(\n",
            "% Probabilidades:  [0.98973185 0.00326753 0.00700066] Clase predicha:  0 Clase correcta:  0 La red Neuronal esta poderosa :D\n",
            "% Probabilidades:  [0.9534504  0.00421371 0.04233595] Clase predicha:  0 Clase correcta:  0 La red Neuronal esta poderosa :D\n",
            "% Probabilidades:  [0.9926356  0.00331927 0.00404501] Clase predicha:  0 Clase correcta:  0 La red Neuronal esta poderosa :D\n",
            "% Probabilidades:  [0.36099505 0.3594092  0.27959576] Clase predicha:  0 Clase correcta:  0 La red Neuronal esta poderosa :D\n",
            "% Probabilidades:  [0.63928473 0.05674797 0.3039673 ] Clase predicha:  0 Clase correcta:  0 La red Neuronal esta poderosa :D\n",
            "% Probabilidades:  [9.9657804e-01 2.8399557e-03 5.8194302e-04] Clase predicha:  0 Clase correcta:  0 La red Neuronal esta poderosa :D\n",
            "% Probabilidades:  [9.906250e-01 8.386808e-03 9.882164e-04] Clase predicha:  0 Clase correcta:  0 La red Neuronal esta poderosa :D\n",
            "% Probabilidades:  [0.98743045 0.00203452 0.01053502] Clase predicha:  0 Clase correcta:  0 La red Neuronal esta poderosa :D\n",
            "% Probabilidades:  [0.968081   0.00204026 0.02987868] Clase predicha:  0 Clase correcta:  0 La red Neuronal esta poderosa :D\n",
            "% Probabilidades:  [0.9795361  0.00522302 0.01524095] Clase predicha:  0 Clase correcta:  0 La red Neuronal esta poderosa :D\n",
            "% Probabilidades:  [0.9956145  0.00129172 0.00309379] Clase predicha:  0 Clase correcta:  0 La red Neuronal esta poderosa :D\n",
            "% Probabilidades:  [0.9045056  0.03894584 0.05654848] Clase predicha:  0 Clase correcta:  0 La red Neuronal esta poderosa :D\n",
            "% Probabilidades:  [0.94725966 0.00718575 0.04555438] Clase predicha:  0 Clase correcta:  0 La red Neuronal esta poderosa :D\n",
            "% Probabilidades:  [0.39193887 0.00352265 0.60453844] Clase predicha:  2 Clase correcta:  0 La red Neuronal esta barro :(\n",
            "% Probabilidades:  [0.9844919  0.00968393 0.00582421] Clase predicha:  0 Clase correcta:  0 La red Neuronal esta poderosa :D\n",
            "% Probabilidades:  [0.9113983  0.00623442 0.08236741] Clase predicha:  0 Clase correcta:  0 La red Neuronal esta poderosa :D\n",
            "% Probabilidades:  [0.9687668  0.02003294 0.01120013] Clase predicha:  0 Clase correcta:  0 La red Neuronal esta poderosa :D\n",
            "% Probabilidades:  [0.9886295  0.00146429 0.00990604] Clase predicha:  0 Clase correcta:  0 La red Neuronal esta poderosa :D\n",
            "% Probabilidades:  [0.9906798  0.00332456 0.00599566] Clase predicha:  0 Clase correcta:  0 La red Neuronal esta poderosa :D\n",
            "% Probabilidades:  [0.9633239  0.01180008 0.02487603] Clase predicha:  0 Clase correcta:  0 La red Neuronal esta poderosa :D\n",
            "% Probabilidades:  [9.975318e-01 1.539011e-03 9.290448e-04] Clase predicha:  0 Clase correcta:  0 La red Neuronal esta poderosa :D\n",
            "% Probabilidades:  [0.74519306 0.01579412 0.2390129 ] Clase predicha:  0 Clase correcta:  0 La red Neuronal esta poderosa :D\n",
            "% Probabilidades:  [0.97812057 0.01148034 0.01039903] Clase predicha:  0 Clase correcta:  0 La red Neuronal esta poderosa :D\n",
            "% Probabilidades:  [0.9928522  0.00202341 0.00512441] Clase predicha:  0 Clase correcta:  0 La red Neuronal esta poderosa :D\n",
            "% Probabilidades:  [0.9915614  0.00288079 0.00555771] Clase predicha:  0 Clase correcta:  0 La red Neuronal esta poderosa :D\n",
            "% Probabilidades:  [0.9757083  0.00824821 0.01604331] Clase predicha:  0 Clase correcta:  0 La red Neuronal esta poderosa :D\n",
            "% Probabilidades:  [0.9906498  0.00708414 0.00226595] Clase predicha:  0 Clase correcta:  0 La red Neuronal esta poderosa :D\n",
            "% Probabilidades:  [0.9867121  0.00519555 0.00809242] Clase predicha:  0 Clase correcta:  0 La red Neuronal esta poderosa :D\n",
            "% Probabilidades:  [0.951114   0.02619235 0.02269367] Clase predicha:  0 Clase correcta:  0 La red Neuronal esta poderosa :D\n",
            "% Probabilidades:  [0.6837678  0.02879867 0.28743345] Clase predicha:  0 Clase correcta:  0 La red Neuronal esta poderosa :D\n",
            "% Probabilidades:  [0.9768389  0.00448039 0.01868073] Clase predicha:  0 Clase correcta:  0 La red Neuronal esta poderosa :D\n",
            "% Probabilidades:  [0.9382676  0.01282857 0.0489038 ] Clase predicha:  0 Clase correcta:  0 La red Neuronal esta poderosa :D\n",
            "% Probabilidades:  [0.97787946 0.00762932 0.01449119] Clase predicha:  0 Clase correcta:  0 La red Neuronal esta poderosa :D\n",
            "% Probabilidades:  [0.8778424  0.00393582 0.1182218 ] Clase predicha:  0 Clase correcta:  0 La red Neuronal esta poderosa :D\n",
            "% Probabilidades:  [0.77097255 0.03591677 0.19311069] Clase predicha:  0 Clase correcta:  0 La red Neuronal esta poderosa :D\n",
            "% Probabilidades:  [0.99676853 0.00180636 0.00142507] Clase predicha:  0 Clase correcta:  0 La red Neuronal esta poderosa :D\n",
            "% Probabilidades:  [0.920434   0.02319179 0.05637426] Clase predicha:  0 Clase correcta:  0 La red Neuronal esta poderosa :D\n",
            "% Probabilidades:  [9.9669486e-01 2.4374875e-03 8.6755818e-04] Clase predicha:  0 Clase correcta:  0 La red Neuronal esta poderosa :D\n",
            "% Probabilidades:  [0.298598  0.3221159 0.3792862] Clase predicha:  2 Clase correcta:  0 La red Neuronal esta barro :(\n",
            "% Probabilidades:  [9.9689877e-01 2.5475838e-03 5.5368448e-04] Clase predicha:  0 Clase correcta:  0 La red Neuronal esta poderosa :D\n",
            "% Probabilidades:  [0.71141034 0.21468942 0.07390023] Clase predicha:  0 Clase correcta:  0 La red Neuronal esta poderosa :D\n",
            "% Probabilidades:  [0.6279255  0.26109672 0.1109778 ] Clase predicha:  0 Clase correcta:  0 La red Neuronal esta poderosa :D\n",
            "% Probabilidades:  [0.9885942  0.00215994 0.00924594] Clase predicha:  0 Clase correcta:  0 La red Neuronal esta poderosa :D\n",
            "% Probabilidades:  [0.9942597  0.00441139 0.00132887] Clase predicha:  0 Clase correcta:  0 La red Neuronal esta poderosa :D\n",
            "% Probabilidades:  [0.9962665  0.00194161 0.00179187] Clase predicha:  0 Clase correcta:  0 La red Neuronal esta poderosa :D\n",
            "% Probabilidades:  [0.8421954  0.01718688 0.14061771] Clase predicha:  0 Clase correcta:  0 La red Neuronal esta poderosa :D\n",
            "% Probabilidades:  [0.9566882  0.0122594  0.03105238] Clase predicha:  0 Clase correcta:  0 La red Neuronal esta poderosa :D\n",
            "% Probabilidades:  [0.7640439  0.03423043 0.2017256 ] Clase predicha:  0 Clase correcta:  0 La red Neuronal esta poderosa :D\n",
            "% Probabilidades:  [0.39701402 0.14971378 0.45327225] Clase predicha:  2 Clase correcta:  0 La red Neuronal esta barro :(\n",
            "% Probabilidades:  [0.9971328  0.00130894 0.00155826] Clase predicha:  0 Clase correcta:  0 La red Neuronal esta poderosa :D\n",
            "% Probabilidades:  [0.8190257  0.01783041 0.16314386] Clase predicha:  0 Clase correcta:  0 La red Neuronal esta poderosa :D\n",
            "% Probabilidades:  [0.39098987 0.604534   0.00447618] Clase predicha:  1 Clase correcta:  0 La red Neuronal esta barro :(\n",
            "% Probabilidades:  [0.98801196 0.00613139 0.0058566 ] Clase predicha:  0 Clase correcta:  0 La red Neuronal esta poderosa :D\n",
            "% Probabilidades:  [9.8306012e-01 1.6145179e-02 7.9465634e-04] Clase predicha:  0 Clase correcta:  0 La red Neuronal esta poderosa :D\n",
            "% Probabilidades:  [9.9690557e-01 2.2052152e-03 8.8911958e-04] Clase predicha:  0 Clase correcta:  0 La red Neuronal esta poderosa :D\n",
            "% Probabilidades:  [0.9654792  0.00387006 0.03065068] Clase predicha:  0 Clase correcta:  0 La red Neuronal esta poderosa :D\n",
            "% Probabilidades:  [0.45158696 0.43796217 0.11045092] Clase predicha:  0 Clase correcta:  0 La red Neuronal esta poderosa :D\n",
            "% Probabilidades:  [0.99273634 0.00247937 0.00478429] Clase predicha:  0 Clase correcta:  0 La red Neuronal esta poderosa :D\n",
            "% Probabilidades:  [0.29257977 0.6252035  0.08221669] Clase predicha:  1 Clase correcta:  0 La red Neuronal esta barro :(\n",
            "% Probabilidades:  [0.885949   0.01076007 0.10329078] Clase predicha:  0 Clase correcta:  0 La red Neuronal esta poderosa :D\n",
            "% Probabilidades:  [0.99072564 0.00305094 0.00622332] Clase predicha:  0 Clase correcta:  0 La red Neuronal esta poderosa :D\n",
            "% Probabilidades:  [0.9895368  0.00712998 0.00333315] Clase predicha:  0 Clase correcta:  0 La red Neuronal esta poderosa :D\n",
            "% Probabilidades:  [0.43768767 0.00146607 0.56084627] Clase predicha:  2 Clase correcta:  0 La red Neuronal esta barro :(\n",
            "% Probabilidades:  [0.48978302 0.19103147 0.3191855 ] Clase predicha:  0 Clase correcta:  0 La red Neuronal esta poderosa :D\n",
            "% Probabilidades:  [0.79395384 0.20491795 0.00112805] Clase predicha:  0 Clase correcta:  0 La red Neuronal esta poderosa :D\n",
            "% Probabilidades:  [0.86903    0.01417499 0.11679509] Clase predicha:  0 Clase correcta:  0 La red Neuronal esta poderosa :D\n",
            "% Probabilidades:  [0.9935245  0.0051563  0.00131929] Clase predicha:  0 Clase correcta:  0 La red Neuronal esta poderosa :D\n",
            "% Probabilidades:  [0.24869533 0.16222413 0.5890805 ] Clase predicha:  2 Clase correcta:  0 La red Neuronal esta barro :(\n",
            "% Probabilidades:  [0.94952303 0.00995419 0.04052277] Clase predicha:  0 Clase correcta:  0 La red Neuronal esta poderosa :D\n",
            "% Probabilidades:  [0.44124588 0.0330607  0.52569336] Clase predicha:  2 Clase correcta:  0 La red Neuronal esta barro :(\n",
            "% Probabilidades:  [0.9042334  0.06454701 0.0312196 ] Clase predicha:  0 Clase correcta:  0 La red Neuronal esta poderosa :D\n",
            "% Probabilidades:  [0.09716415 0.6278475  0.27498832] Clase predicha:  1 Clase correcta:  0 La red Neuronal esta barro :(\n",
            "% Probabilidades:  [0.9760367  0.00874005 0.01522328] Clase predicha:  0 Clase correcta:  0 La red Neuronal esta poderosa :D\n",
            "% Probabilidades:  [0.07552604 0.46282506 0.46164888] Clase predicha:  1 Clase correcta:  0 La red Neuronal esta barro :(\n",
            "% Probabilidades:  [0.36870378 0.5546104  0.07668577] Clase predicha:  1 Clase correcta:  0 La red Neuronal esta barro :(\n",
            "% Probabilidades:  [0.94583833 0.02248651 0.0316752 ] Clase predicha:  0 Clase correcta:  0 La red Neuronal esta poderosa :D\n",
            "% Probabilidades:  [0.95864534 0.005638   0.03571663] Clase predicha:  0 Clase correcta:  0 La red Neuronal esta poderosa :D\n",
            "% Probabilidades:  [0.99541306 0.00188062 0.00270625] Clase predicha:  0 Clase correcta:  0 La red Neuronal esta poderosa :D\n",
            "% Probabilidades:  [0.99687725 0.00175347 0.00136932] Clase predicha:  0 Clase correcta:  0 La red Neuronal esta poderosa :D\n",
            "% Probabilidades:  [0.87443435 0.00822137 0.11734428] Clase predicha:  0 Clase correcta:  0 La red Neuronal esta poderosa :D\n",
            "% Probabilidades:  [0.946913   0.03162869 0.0214583 ] Clase predicha:  0 Clase correcta:  0 La red Neuronal esta poderosa :D\n",
            "% Probabilidades:  [0.88199234 0.09240979 0.02559792] Clase predicha:  0 Clase correcta:  0 La red Neuronal esta poderosa :D\n",
            "% Probabilidades:  [9.9431378e-01 5.2471007e-03 4.3898632e-04] Clase predicha:  0 Clase correcta:  0 La red Neuronal esta poderosa :D\n",
            "% Probabilidades:  [0.9835519  0.00984608 0.00660201] Clase predicha:  0 Clase correcta:  0 La red Neuronal esta poderosa :D\n",
            "% Probabilidades:  [0.9796883  0.01750615 0.0028055 ] Clase predicha:  0 Clase correcta:  0 La red Neuronal esta poderosa :D\n",
            "% Probabilidades:  [0.11424307 0.11230649 0.7734504 ] Clase predicha:  2 Clase correcta:  0 La red Neuronal esta barro :(\n",
            "% Probabilidades:  [0.49730825 0.23162654 0.27106524] Clase predicha:  0 Clase correcta:  0 La red Neuronal esta poderosa :D\n",
            "% Probabilidades:  [0.438259   0.2546915  0.30704948] Clase predicha:  0 Clase correcta:  0 La red Neuronal esta poderosa :D\n",
            "% Probabilidades:  [0.44116944 0.12980162 0.42902896] Clase predicha:  0 Clase correcta:  0 La red Neuronal esta poderosa :D\n",
            "% Probabilidades:  [0.9601376  0.00439637 0.03546594] Clase predicha:  0 Clase correcta:  0 La red Neuronal esta poderosa :D\n",
            "% Probabilidades:  [0.96131104 0.00885855 0.02983033] Clase predicha:  0 Clase correcta:  0 La red Neuronal esta poderosa :D\n",
            "% Probabilidades:  [0.99198645 0.00551636 0.0024973 ] Clase predicha:  0 Clase correcta:  0 La red Neuronal esta poderosa :D\n",
            "% Probabilidades:  [0.2066506  0.71303046 0.08031891] Clase predicha:  1 Clase correcta:  1 La red Neuronal esta poderosa :D\n",
            "% Probabilidades:  [0.45026186 0.4925427  0.05719548] Clase predicha:  1 Clase correcta:  1 La red Neuronal esta poderosa :D\n",
            "% Probabilidades:  [0.20952153 0.56971484 0.22076358] Clase predicha:  1 Clase correcta:  1 La red Neuronal esta poderosa :D\n",
            "% Probabilidades:  [0.27306166 0.72284895 0.0040894 ] Clase predicha:  1 Clase correcta:  1 La red Neuronal esta poderosa :D\n",
            "% Probabilidades:  [0.22833177 0.7238006  0.04786759] Clase predicha:  1 Clase correcta:  1 La red Neuronal esta poderosa :D\n",
            "% Probabilidades:  [0.05470096 0.7948629  0.15043618] Clase predicha:  1 Clase correcta:  1 La red Neuronal esta poderosa :D\n",
            "% Probabilidades:  [0.04519536 0.93722296 0.01758174] Clase predicha:  1 Clase correcta:  1 La red Neuronal esta poderosa :D\n",
            "% Probabilidades:  [0.1217648 0.8636106 0.0146246] Clase predicha:  1 Clase correcta:  1 La red Neuronal esta poderosa :D\n",
            "% Probabilidades:  [0.24270761 0.7184014  0.03889097] Clase predicha:  1 Clase correcta:  1 La red Neuronal esta poderosa :D\n",
            "% Probabilidades:  [0.09483025 0.82105815 0.08411159] Clase predicha:  1 Clase correcta:  1 La red Neuronal esta poderosa :D\n",
            "% Probabilidades:  [0.21388914 0.7712295  0.01488137] Clase predicha:  1 Clase correcta:  1 La red Neuronal esta poderosa :D\n",
            "% Probabilidades:  [0.3352664  0.5567862  0.10794753] Clase predicha:  1 Clase correcta:  1 La red Neuronal esta poderosa :D\n",
            "% Probabilidades:  [0.06257656 0.93377113 0.00365217] Clase predicha:  1 Clase correcta:  1 La red Neuronal esta poderosa :D\n",
            "% Probabilidades:  [0.12057303 0.87734896 0.00207803] Clase predicha:  1 Clase correcta:  1 La red Neuronal esta poderosa :D\n",
            "% Probabilidades:  [0.17384645 0.822236   0.00391754] Clase predicha:  1 Clase correcta:  1 La red Neuronal esta poderosa :D\n",
            "% Probabilidades:  [0.12313664 0.15606296 0.7208004 ] Clase predicha:  2 Clase correcta:  1 La red Neuronal esta barro :(\n",
            "% Probabilidades:  [0.05228128 0.9444883  0.00323033] Clase predicha:  1 Clase correcta:  1 La red Neuronal esta poderosa :D\n",
            "% Probabilidades:  [0.10767487 0.8457634  0.04656169] Clase predicha:  1 Clase correcta:  1 La red Neuronal esta poderosa :D\n",
            "% Probabilidades:  [0.0712207  0.91089225 0.01788711] Clase predicha:  1 Clase correcta:  1 La red Neuronal esta poderosa :D\n",
            "% Probabilidades:  [0.13118052 0.639778   0.22904152] Clase predicha:  1 Clase correcta:  1 La red Neuronal esta poderosa :D\n",
            "% Probabilidades:  [0.0365649  0.95793664 0.00549853] Clase predicha:  1 Clase correcta:  1 La red Neuronal esta poderosa :D\n",
            "% Probabilidades:  [0.14668751 0.8490176  0.00429474] Clase predicha:  1 Clase correcta:  1 La red Neuronal esta poderosa :D\n",
            "% Probabilidades:  [0.0643254  0.15980674 0.7758679 ] Clase predicha:  2 Clase correcta:  1 La red Neuronal esta barro :(\n",
            "% Probabilidades:  [0.0290687  0.9526884  0.01824288] Clase predicha:  1 Clase correcta:  1 La red Neuronal esta poderosa :D\n",
            "% Probabilidades:  [0.19778341 0.7896689  0.01254766] Clase predicha:  1 Clase correcta:  1 La red Neuronal esta poderosa :D\n",
            "% Probabilidades:  [0.04068137 0.9471086  0.01220985] Clase predicha:  1 Clase correcta:  1 La red Neuronal esta poderosa :D\n",
            "% Probabilidades:  [0.35164836 0.6324772  0.01587447] Clase predicha:  1 Clase correcta:  1 La red Neuronal esta poderosa :D\n",
            "% Probabilidades:  [0.4561497  0.19996531 0.3438849 ] Clase predicha:  0 Clase correcta:  1 La red Neuronal esta barro :(\n",
            "% Probabilidades:  [0.05950846 0.93083847 0.00965318] Clase predicha:  1 Clase correcta:  1 La red Neuronal esta poderosa :D\n",
            "% Probabilidades:  [0.1085061  0.8881036  0.00339024] Clase predicha:  1 Clase correcta:  1 La red Neuronal esta poderosa :D\n",
            "% Probabilidades:  [0.1076785  0.88784206 0.00447941] Clase predicha:  1 Clase correcta:  1 La red Neuronal esta poderosa :D\n",
            "% Probabilidades:  [0.10790613 0.88214076 0.00995312] Clase predicha:  1 Clase correcta:  1 La red Neuronal esta poderosa :D\n",
            "% Probabilidades:  [0.08439659 0.8955334  0.02006998] Clase predicha:  1 Clase correcta:  1 La red Neuronal esta poderosa :D\n",
            "% Probabilidades:  [0.13636617 0.85333085 0.01030301] Clase predicha:  1 Clase correcta:  1 La red Neuronal esta poderosa :D\n",
            "% Probabilidades:  [0.08298562 0.9144688  0.00254561] Clase predicha:  1 Clase correcta:  1 La red Neuronal esta poderosa :D\n",
            "% Probabilidades:  [5.1694803e-02 9.4777769e-01 5.2755419e-04] Clase predicha:  1 Clase correcta:  1 La red Neuronal esta poderosa :D\n",
            "% Probabilidades:  [0.40661916 0.5875233  0.00585757] Clase predicha:  1 Clase correcta:  1 La red Neuronal esta poderosa :D\n",
            "% Probabilidades:  [2.3998870e-02 9.7559690e-01 4.0414155e-04] Clase predicha:  1 Clase correcta:  1 La red Neuronal esta poderosa :D\n",
            "% Probabilidades:  [0.17423551 0.8245615  0.00120307] Clase predicha:  1 Clase correcta:  1 La red Neuronal esta poderosa :D\n",
            "% Probabilidades:  [0.69386727 0.30116245 0.0049703 ] Clase predicha:  0 Clase correcta:  1 La red Neuronal esta barro :(\n",
            "% Probabilidades:  [0.12002444 0.83121914 0.04875637] Clase predicha:  1 Clase correcta:  1 La red Neuronal esta poderosa :D\n",
            "% Probabilidades:  [0.17280854 0.6299094  0.19728214] Clase predicha:  1 Clase correcta:  1 La red Neuronal esta poderosa :D\n",
            "% Probabilidades:  [0.3234967  0.55169374 0.12480954] Clase predicha:  1 Clase correcta:  1 La red Neuronal esta poderosa :D\n",
            "% Probabilidades:  [0.12599039 0.8551309  0.01887872] Clase predicha:  1 Clase correcta:  1 La red Neuronal esta poderosa :D\n",
            "% Probabilidades:  [0.21289188 0.7776898  0.0094183 ] Clase predicha:  1 Clase correcta:  1 La red Neuronal esta poderosa :D\n",
            "% Probabilidades:  [0.02309194 0.97488886 0.00201913] Clase predicha:  1 Clase correcta:  1 La red Neuronal esta poderosa :D\n",
            "% Probabilidades:  [0.44696417 0.5275175  0.02551831] Clase predicha:  1 Clase correcta:  1 La red Neuronal esta poderosa :D\n",
            "% Probabilidades:  [0.07682586 0.9145379  0.00863621] Clase predicha:  1 Clase correcta:  1 La red Neuronal esta poderosa :D\n",
            "% Probabilidades:  [0.45386535 0.48925132 0.0568832 ] Clase predicha:  1 Clase correcta:  1 La red Neuronal esta poderosa :D\n",
            "% Probabilidades:  [0.5702336  0.37565646 0.05410986] Clase predicha:  0 Clase correcta:  1 La red Neuronal esta barro :(\n",
            "% Probabilidades:  [0.06552449 0.77228516 0.16219029] Clase predicha:  1 Clase correcta:  1 La red Neuronal esta poderosa :D\n",
            "% Probabilidades:  [0.04678922 0.07467753 0.87853324] Clase predicha:  2 Clase correcta:  1 La red Neuronal esta barro :(\n",
            "% Probabilidades:  [0.23925082 0.7531589  0.00759018] Clase predicha:  1 Clase correcta:  1 La red Neuronal esta poderosa :D\n",
            "% Probabilidades:  [0.56812334 0.39000052 0.04187608] Clase predicha:  0 Clase correcta:  1 La red Neuronal esta barro :(\n",
            "% Probabilidades:  [0.3142633  0.6775724  0.00816426] Clase predicha:  1 Clase correcta:  1 La red Neuronal esta poderosa :D\n",
            "% Probabilidades:  [0.17142785 0.05424075 0.77433145] Clase predicha:  2 Clase correcta:  1 La red Neuronal esta barro :(\n",
            "% Probabilidades:  [0.13455488 0.7438439  0.12160115] Clase predicha:  1 Clase correcta:  1 La red Neuronal esta poderosa :D\n",
            "% Probabilidades:  [0.11273781 0.7185213  0.16874082] Clase predicha:  1 Clase correcta:  1 La red Neuronal esta poderosa :D\n",
            "% Probabilidades:  [0.02884278 0.9503086  0.02084851] Clase predicha:  1 Clase correcta:  1 La red Neuronal esta poderosa :D\n",
            "% Probabilidades:  [0.01558226 0.00641178 0.9780058 ] Clase predicha:  2 Clase correcta:  1 La red Neuronal esta barro :(\n",
            "% Probabilidades:  [0.15480524 0.83580446 0.0093904 ] Clase predicha:  1 Clase correcta:  1 La red Neuronal esta poderosa :D\n",
            "% Probabilidades:  [0.77314895 0.09998907 0.12686194] Clase predicha:  0 Clase correcta:  1 La red Neuronal esta barro :(\n",
            "% Probabilidades:  [0.2672118  0.6715184  0.06126983] Clase predicha:  1 Clase correcta:  1 La red Neuronal esta poderosa :D\n",
            "% Probabilidades:  [1.8093171e-02 9.8136705e-01 5.3979247e-04] Clase predicha:  1 Clase correcta:  1 La red Neuronal esta poderosa :D\n",
            "% Probabilidades:  [0.09393342 0.8594419  0.04662471] Clase predicha:  1 Clase correcta:  1 La red Neuronal esta poderosa :D\n",
            "% Probabilidades:  [0.20866682 0.79044867 0.00088452] Clase predicha:  1 Clase correcta:  1 La red Neuronal esta poderosa :D\n",
            "% Probabilidades:  [0.43417308 0.50840133 0.0574256 ] Clase predicha:  1 Clase correcta:  1 La red Neuronal esta poderosa :D\n",
            "% Probabilidades:  [0.25057954 0.73430467 0.01511577] Clase predicha:  1 Clase correcta:  1 La red Neuronal esta poderosa :D\n",
            "% Probabilidades:  [0.67011046 0.23436005 0.09552947] Clase predicha:  0 Clase correcta:  1 La red Neuronal esta barro :(\n",
            "% Probabilidades:  [0.01436657 0.9788102  0.00682321] Clase predicha:  1 Clase correcta:  1 La red Neuronal esta poderosa :D\n",
            "% Probabilidades:  [0.04224591 0.9554821  0.00227186] Clase predicha:  1 Clase correcta:  1 La red Neuronal esta poderosa :D\n",
            "% Probabilidades:  [0.44888198 0.46560958 0.08550844] Clase predicha:  1 Clase correcta:  1 La red Neuronal esta poderosa :D\n",
            "% Probabilidades:  [0.04386952 0.95043373 0.00569678] Clase predicha:  1 Clase correcta:  1 La red Neuronal esta poderosa :D\n",
            "% Probabilidades:  [0.16964081 0.79513377 0.0352254 ] Clase predicha:  1 Clase correcta:  1 La red Neuronal esta poderosa :D\n",
            "% Probabilidades:  [0.49792224 0.39405885 0.10801882] Clase predicha:  0 Clase correcta:  1 La red Neuronal esta barro :(\n",
            "% Probabilidades:  [0.39783326 0.35394484 0.24822187] Clase predicha:  0 Clase correcta:  1 La red Neuronal esta barro :(\n",
            "% Probabilidades:  [0.8603932  0.1290338  0.01057294] Clase predicha:  0 Clase correcta:  1 La red Neuronal esta barro :(\n",
            "% Probabilidades:  [0.27230856 0.16490065 0.5627908 ] Clase predicha:  2 Clase correcta:  1 La red Neuronal esta barro :(\n",
            "% Probabilidades:  [0.29468167 0.6058083  0.09951012] Clase predicha:  1 Clase correcta:  1 La red Neuronal esta poderosa :D\n",
            "% Probabilidades:  [0.59687674 0.39766905 0.00545422] Clase predicha:  0 Clase correcta:  1 La red Neuronal esta barro :(\n",
            "% Probabilidades:  [0.14494456 0.5806085  0.274447  ] Clase predicha:  1 Clase correcta:  1 La red Neuronal esta poderosa :D\n",
            "% Probabilidades:  [0.18335195 0.811135   0.00551297] Clase predicha:  1 Clase correcta:  1 La red Neuronal esta poderosa :D\n",
            "% Probabilidades:  [0.06666899 0.92399096 0.00933999] Clase predicha:  1 Clase correcta:  1 La red Neuronal esta poderosa :D\n",
            "% Probabilidades:  [0.08963973 0.87896854 0.03139176] Clase predicha:  1 Clase correcta:  1 La red Neuronal esta poderosa :D\n",
            "% Probabilidades:  [0.5846977  0.10709401 0.30820826] Clase predicha:  0 Clase correcta:  1 La red Neuronal esta barro :(\n",
            "% Probabilidades:  [0.3809118  0.5998595  0.01922879] Clase predicha:  1 Clase correcta:  1 La red Neuronal esta poderosa :D\n",
            "% Probabilidades:  [0.02822513 0.0152642  0.95651066] Clase predicha:  2 Clase correcta:  1 La red Neuronal esta barro :(\n",
            "% Probabilidades:  [0.06071791 0.9337189  0.00556316] Clase predicha:  1 Clase correcta:  1 La red Neuronal esta poderosa :D\n",
            "% Probabilidades:  [0.05216967 0.8414383  0.10639201] Clase predicha:  1 Clase correcta:  1 La red Neuronal esta poderosa :D\n",
            "% Probabilidades:  [0.02816009 0.96918887 0.00265093] Clase predicha:  1 Clase correcta:  1 La red Neuronal esta poderosa :D\n",
            "% Probabilidades:  [0.11380816 0.8414162  0.04477571] Clase predicha:  1 Clase correcta:  1 La red Neuronal esta poderosa :D\n",
            "% Probabilidades:  [0.03647869 0.95253426 0.01098706] Clase predicha:  1 Clase correcta:  1 La red Neuronal esta poderosa :D\n",
            "% Probabilidades:  [1.6368504e-01 8.3549851e-01 8.1641821e-04] Clase predicha:  1 Clase correcta:  1 La red Neuronal esta poderosa :D\n",
            "% Probabilidades:  [0.13147694 0.8280601  0.04046298] Clase predicha:  1 Clase correcta:  1 La red Neuronal esta poderosa :D\n",
            "% Probabilidades:  [0.06878414 0.8869771  0.0442386 ] Clase predicha:  1 Clase correcta:  1 La red Neuronal esta poderosa :D\n",
            "% Probabilidades:  [0.02388248 0.9750602  0.0010574 ] Clase predicha:  1 Clase correcta:  1 La red Neuronal esta poderosa :D\n",
            "% Probabilidades:  [0.06926264 0.92831075 0.00242678] Clase predicha:  1 Clase correcta:  1 La red Neuronal esta poderosa :D\n",
            "% Probabilidades:  [0.03332816 0.9270229  0.03964899] Clase predicha:  1 Clase correcta:  1 La red Neuronal esta poderosa :D\n",
            "% Probabilidades:  [0.04206077 0.90791166 0.05002766] Clase predicha:  1 Clase correcta:  1 La red Neuronal esta poderosa :D\n",
            "% Probabilidades:  [0.19452651 0.79367924 0.01179431] Clase predicha:  1 Clase correcta:  1 La red Neuronal esta poderosa :D\n",
            "% Probabilidades:  [0.05656471 0.9336228  0.0098126 ] Clase predicha:  1 Clase correcta:  1 La red Neuronal esta poderosa :D\n",
            "% Probabilidades:  [0.02515369 0.9736474  0.00119889] Clase predicha:  1 Clase correcta:  1 La red Neuronal esta poderosa :D\n",
            "% Probabilidades:  [0.37013716 0.6087143  0.02114852] Clase predicha:  1 Clase correcta:  1 La red Neuronal esta poderosa :D\n",
            "% Probabilidades:  [0.36968327 0.6249003  0.00541649] Clase predicha:  1 Clase correcta:  1 La red Neuronal esta poderosa :D\n",
            "% Probabilidades:  [0.27831662 0.7171139  0.00456947] Clase predicha:  1 Clase correcta:  1 La red Neuronal esta poderosa :D\n",
            "% Probabilidades:  [0.07767425 0.84998184 0.07234387] Clase predicha:  1 Clase correcta:  1 La red Neuronal esta poderosa :D\n",
            "% Probabilidades:  [0.25012287 0.7115269  0.03835018] Clase predicha:  1 Clase correcta:  1 La red Neuronal esta poderosa :D\n",
            "% Probabilidades:  [0.11657731 0.85784185 0.02558078] Clase predicha:  1 Clase correcta:  1 La red Neuronal esta poderosa :D\n",
            "% Probabilidades:  [0.09048799 0.7823779  0.12713413] Clase predicha:  1 Clase correcta:  1 La red Neuronal esta poderosa :D\n",
            "% Probabilidades:  [0.0343007  0.0195119  0.94618744] Clase predicha:  2 Clase correcta:  1 La red Neuronal esta barro :(\n",
            "% Probabilidades:  [0.05188166 0.58514416 0.36297414] Clase predicha:  1 Clase correcta:  1 La red Neuronal esta poderosa :D\n",
            "% Probabilidades:  [0.17288126 0.8133896  0.01372921] Clase predicha:  1 Clase correcta:  1 La red Neuronal esta poderosa :D\n",
            "% Probabilidades:  [0.12941073 0.5982709  0.27231845] Clase predicha:  1 Clase correcta:  1 La red Neuronal esta poderosa :D\n",
            "% Probabilidades:  [0.73102134 0.23188989 0.03708877] Clase predicha:  0 Clase correcta:  1 La red Neuronal esta barro :(\n",
            "% Probabilidades:  [0.03172693 0.9635917  0.00468126] Clase predicha:  1 Clase correcta:  1 La red Neuronal esta poderosa :D\n",
            "% Probabilidades:  [0.06404269 0.9264135  0.00954377] Clase predicha:  1 Clase correcta:  1 La red Neuronal esta poderosa :D\n",
            "% Probabilidades:  [0.09000536 0.90506124 0.00493348] Clase predicha:  1 Clase correcta:  1 La red Neuronal esta poderosa :D\n",
            "% Probabilidades:  [0.08957394 0.51667476 0.3937513 ] Clase predicha:  1 Clase correcta:  1 La red Neuronal esta poderosa :D\n",
            "% Probabilidades:  [0.25241506 0.6782367  0.06934825] Clase predicha:  1 Clase correcta:  1 La red Neuronal esta poderosa :D\n",
            "% Probabilidades:  [0.03461359 0.9636473  0.00173911] Clase predicha:  1 Clase correcta:  1 La red Neuronal esta poderosa :D\n",
            "% Probabilidades:  [0.5576345  0.3778618  0.06450368] Clase predicha:  0 Clase correcta:  1 La red Neuronal esta barro :(\n",
            "% Probabilidades:  [0.04147193 0.95612806 0.00239996] Clase predicha:  1 Clase correcta:  1 La red Neuronal esta poderosa :D\n",
            "% Probabilidades:  [0.09369784 0.65599597 0.25030607] Clase predicha:  1 Clase correcta:  1 La red Neuronal esta poderosa :D\n",
            "% Probabilidades:  [0.36387768 0.6334154  0.0027069 ] Clase predicha:  1 Clase correcta:  1 La red Neuronal esta poderosa :D\n",
            "% Probabilidades:  [0.27168038 0.7207308  0.00758893] Clase predicha:  1 Clase correcta:  1 La red Neuronal esta poderosa :D\n",
            "% Probabilidades:  [0.04563388 0.9159389  0.03842711] Clase predicha:  1 Clase correcta:  1 La red Neuronal esta poderosa :D\n",
            "% Probabilidades:  [0.04696218 0.94119585 0.01184191] Clase predicha:  1 Clase correcta:  1 La red Neuronal esta poderosa :D\n",
            "% Probabilidades:  [0.18751375 0.4972124  0.31527376] Clase predicha:  1 Clase correcta:  1 La red Neuronal esta poderosa :D\n",
            "% Probabilidades:  [6.9628112e-02 9.2986745e-01 5.0447381e-04] Clase predicha:  1 Clase correcta:  1 La red Neuronal esta poderosa :D\n",
            "% Probabilidades:  [0.11351748 0.87725824 0.00922429] Clase predicha:  1 Clase correcta:  1 La red Neuronal esta poderosa :D\n",
            "% Probabilidades:  [0.01187393 0.9802596  0.00786646] Clase predicha:  1 Clase correcta:  1 La red Neuronal esta poderosa :D\n",
            "% Probabilidades:  [0.12636895 0.7520134  0.1216177 ] Clase predicha:  1 Clase correcta:  1 La red Neuronal esta poderosa :D\n",
            "% Probabilidades:  [0.2614128  0.72358286 0.01500427] Clase predicha:  1 Clase correcta:  1 La red Neuronal esta poderosa :D\n",
            "% Probabilidades:  [0.13537431 0.8636592  0.00096657] Clase predicha:  1 Clase correcta:  1 La red Neuronal esta poderosa :D\n",
            "% Probabilidades:  [0.12001014 0.86836284 0.01162705] Clase predicha:  1 Clase correcta:  1 La red Neuronal esta poderosa :D\n",
            "% Probabilidades:  [0.12364088 0.86196667 0.01439236] Clase predicha:  1 Clase correcta:  1 La red Neuronal esta poderosa :D\n",
            "% Probabilidades:  [0.02675253 0.9650846  0.00816276] Clase predicha:  1 Clase correcta:  1 La red Neuronal esta poderosa :D\n",
            "% Probabilidades:  [0.09452039 0.8444747  0.06100494] Clase predicha:  1 Clase correcta:  1 La red Neuronal esta poderosa :D\n",
            "% Probabilidades:  [0.08278654 0.9099154  0.00729812] Clase predicha:  1 Clase correcta:  1 La red Neuronal esta poderosa :D\n",
            "% Probabilidades:  [0.03273691 0.9630935  0.00416955] Clase predicha:  1 Clase correcta:  1 La red Neuronal esta poderosa :D\n",
            "% Probabilidades:  [0.09803032 0.00514141 0.89682823] Clase predicha:  2 Clase correcta:  2 La red Neuronal esta poderosa :D\n",
            "% Probabilidades:  [2.4320204e-02 7.8544224e-04 9.7489434e-01] Clase predicha:  2 Clase correcta:  2 La red Neuronal esta poderosa :D\n",
            "% Probabilidades:  [0.09492175 0.00393006 0.9011481 ] Clase predicha:  2 Clase correcta:  2 La red Neuronal esta poderosa :D\n",
            "% Probabilidades:  [0.40004644 0.01372074 0.5862328 ] Clase predicha:  2 Clase correcta:  2 La red Neuronal esta poderosa :D\n",
            "% Probabilidades:  [0.24069746 0.0011497  0.7581528 ] Clase predicha:  2 Clase correcta:  2 La red Neuronal esta poderosa :D\n",
            "% Probabilidades:  [0.11418347 0.0275188  0.8582977 ] Clase predicha:  2 Clase correcta:  2 La red Neuronal esta poderosa :D\n",
            "% Probabilidades:  [0.19774747 0.01455303 0.7876994 ] Clase predicha:  2 Clase correcta:  2 La red Neuronal esta poderosa :D\n",
            "% Probabilidades:  [0.01660178 0.01414112 0.96925706] Clase predicha:  2 Clase correcta:  2 La red Neuronal esta poderosa :D\n",
            "% Probabilidades:  [0.15432513 0.00720396 0.8384709 ] Clase predicha:  2 Clase correcta:  2 La red Neuronal esta poderosa :D\n",
            "% Probabilidades:  [0.07785258 0.20437022 0.7177772 ] Clase predicha:  2 Clase correcta:  2 La red Neuronal esta poderosa :D\n",
            "% Probabilidades:  [0.3993343  0.03602727 0.5646384 ] Clase predicha:  2 Clase correcta:  2 La red Neuronal esta poderosa :D\n",
            "% Probabilidades:  [0.04344329 0.43790433 0.5186523 ] Clase predicha:  2 Clase correcta:  2 La red Neuronal esta poderosa :D\n",
            "% Probabilidades:  [0.27660948 0.02330073 0.7000899 ] Clase predicha:  2 Clase correcta:  2 La red Neuronal esta poderosa :D\n",
            "% Probabilidades:  [0.13999294 0.00602797 0.8539792 ] Clase predicha:  2 Clase correcta:  2 La red Neuronal esta poderosa :D\n",
            "% Probabilidades:  [0.41359723 0.00407337 0.58232933] Clase predicha:  2 Clase correcta:  2 La red Neuronal esta poderosa :D\n",
            "% Probabilidades:  [0.18497132 0.00883054 0.8061982 ] Clase predicha:  2 Clase correcta:  2 La red Neuronal esta poderosa :D\n",
            "% Probabilidades:  [0.02676332 0.02666693 0.94656974] Clase predicha:  2 Clase correcta:  2 La red Neuronal esta poderosa :D\n",
            "% Probabilidades:  [0.03249732 0.00802951 0.95947325] Clase predicha:  2 Clase correcta:  2 La red Neuronal esta poderosa :D\n",
            "% Probabilidades:  [0.43001857 0.04626009 0.5237212 ] Clase predicha:  2 Clase correcta:  2 La red Neuronal esta poderosa :D\n",
            "% Probabilidades:  [0.1043982  0.03510334 0.8604984 ] Clase predicha:  2 Clase correcta:  2 La red Neuronal esta poderosa :D\n",
            "% Probabilidades:  [0.07129853 0.0028016  0.92589974] Clase predicha:  2 Clase correcta:  2 La red Neuronal esta poderosa :D\n",
            "% Probabilidades:  [0.00425021 0.00353431 0.9922154 ] Clase predicha:  2 Clase correcta:  2 La red Neuronal esta poderosa :D\n",
            "% Probabilidades:  [0.6981982  0.0214779  0.28032392] Clase predicha:  0 Clase correcta:  2 La red Neuronal esta barro :(\n",
            "% Probabilidades:  [0.04350324 0.11467515 0.8418217 ] Clase predicha:  2 Clase correcta:  2 La red Neuronal esta poderosa :D\n",
            "% Probabilidades:  [0.05647232 0.0074487  0.93607897] Clase predicha:  2 Clase correcta:  2 La red Neuronal esta poderosa :D\n",
            "% Probabilidades:  [0.21117438 0.00447112 0.7843544 ] Clase predicha:  2 Clase correcta:  2 La red Neuronal esta poderosa :D\n",
            "% Probabilidades:  [0.01969627 0.00862788 0.9716758 ] Clase predicha:  2 Clase correcta:  2 La red Neuronal esta poderosa :D\n",
            "% Probabilidades:  [0.0579247  0.25662956 0.6854458 ] Clase predicha:  2 Clase correcta:  2 La red Neuronal esta poderosa :D\n",
            "% Probabilidades:  [0.4482736  0.05116161 0.5005648 ] Clase predicha:  2 Clase correcta:  2 La red Neuronal esta poderosa :D\n",
            "% Probabilidades:  [0.0968084  0.0024635  0.90072817] Clase predicha:  2 Clase correcta:  2 La red Neuronal esta poderosa :D\n",
            "% Probabilidades:  [0.50105757 0.00368523 0.49525714] Clase predicha:  0 Clase correcta:  2 La red Neuronal esta barro :(\n",
            "% Probabilidades:  [0.09673036 0.0712814  0.8319882 ] Clase predicha:  2 Clase correcta:  2 La red Neuronal esta poderosa :D\n",
            "% Probabilidades:  [0.0275075  0.00608258 0.96641   ] Clase predicha:  2 Clase correcta:  2 La red Neuronal esta poderosa :D\n",
            "% Probabilidades:  [0.5373752  0.00639837 0.45622635] Clase predicha:  0 Clase correcta:  2 La red Neuronal esta barro :(\n",
            "% Probabilidades:  [4.8677035e-02 3.0334189e-04 9.5101953e-01] Clase predicha:  2 Clase correcta:  2 La red Neuronal esta poderosa :D\n",
            "% Probabilidades:  [0.63854015 0.00246426 0.35899565] Clase predicha:  0 Clase correcta:  2 La red Neuronal esta barro :(\n",
            "% Probabilidades:  [0.03671776 0.00180912 0.9614731 ] Clase predicha:  2 Clase correcta:  2 La red Neuronal esta poderosa :D\n",
            "% Probabilidades:  [0.07740759 0.00822213 0.91437024] Clase predicha:  2 Clase correcta:  2 La red Neuronal esta poderosa :D\n",
            "% Probabilidades:  [0.07354932 0.01548545 0.9109652 ] Clase predicha:  2 Clase correcta:  2 La red Neuronal esta poderosa :D\n",
            "% Probabilidades:  [0.15869038 0.05978569 0.78152394] Clase predicha:  2 Clase correcta:  2 La red Neuronal esta poderosa :D\n",
            "% Probabilidades:  [0.2850764  0.00871602 0.7062076 ] Clase predicha:  2 Clase correcta:  2 La red Neuronal esta poderosa :D\n",
            "% Probabilidades:  [0.05220295 0.25165728 0.69613975] Clase predicha:  2 Clase correcta:  2 La red Neuronal esta poderosa :D\n",
            "% Probabilidades:  [0.04923252 0.00951616 0.9412513 ] Clase predicha:  2 Clase correcta:  2 La red Neuronal esta poderosa :D\n",
            "% Probabilidades:  [0.09609806 0.15092878 0.752973  ] Clase predicha:  2 Clase correcta:  2 La red Neuronal esta poderosa :D\n",
            "% Probabilidades:  [0.09740181 0.00367365 0.8989246 ] Clase predicha:  2 Clase correcta:  2 La red Neuronal esta poderosa :D\n",
            "% Probabilidades:  [0.10853354 0.03614825 0.8553181 ] Clase predicha:  2 Clase correcta:  2 La red Neuronal esta poderosa :D\n",
            "% Probabilidades:  [0.08048031 0.00724231 0.9122774 ] Clase predicha:  2 Clase correcta:  2 La red Neuronal esta poderosa :D\n",
            "% Probabilidades:  [0.21977057 0.01205347 0.7681759 ] Clase predicha:  2 Clase correcta:  2 La red Neuronal esta poderosa :D\n",
            "% Probabilidades:  [0.00662883 0.00408447 0.98928666] Clase predicha:  2 Clase correcta:  2 La red Neuronal esta poderosa :D\n",
            "% Probabilidades:  [0.07005917 0.7319197  0.19802126] Clase predicha:  1 Clase correcta:  2 La red Neuronal esta barro :(\n",
            "% Probabilidades:  [0.09755716 0.00955232 0.89289045] Clase predicha:  2 Clase correcta:  2 La red Neuronal esta poderosa :D\n",
            "% Probabilidades:  [0.6483323  0.01375082 0.33791694] Clase predicha:  0 Clase correcta:  2 La red Neuronal esta barro :(\n",
            "% Probabilidades:  [3.318638e-02 6.536588e-04 9.661599e-01] Clase predicha:  2 Clase correcta:  2 La red Neuronal esta poderosa :D\n",
            "% Probabilidades:  [0.19543807 0.5746598  0.22990207] Clase predicha:  1 Clase correcta:  2 La red Neuronal esta barro :(\n",
            "% Probabilidades:  [0.17395653 0.01522905 0.8108144 ] Clase predicha:  2 Clase correcta:  2 La red Neuronal esta poderosa :D\n",
            "% Probabilidades:  [0.07386041 0.00877691 0.9173627 ] Clase predicha:  2 Clase correcta:  2 La red Neuronal esta poderosa :D\n",
            "% Probabilidades:  [0.06466143 0.00212736 0.93321127] Clase predicha:  2 Clase correcta:  2 La red Neuronal esta poderosa :D\n",
            "% Probabilidades:  [0.07447094 0.00292769 0.92260134] Clase predicha:  2 Clase correcta:  2 La red Neuronal esta poderosa :D\n",
            "% Probabilidades:  [0.24908216 0.06155028 0.6893676 ] Clase predicha:  2 Clase correcta:  2 La red Neuronal esta poderosa :D\n",
            "% Probabilidades:  [0.13827816 0.08344065 0.7782813 ] Clase predicha:  2 Clase correcta:  2 La red Neuronal esta poderosa :D\n",
            "% Probabilidades:  [0.02517746 0.00331129 0.97151124] Clase predicha:  2 Clase correcta:  2 La red Neuronal esta poderosa :D\n",
            "% Probabilidades:  [0.49709913 0.00192048 0.5009804 ] Clase predicha:  2 Clase correcta:  2 La red Neuronal esta poderosa :D\n",
            "% Probabilidades:  [0.08404546 0.31647196 0.5994826 ] Clase predicha:  2 Clase correcta:  2 La red Neuronal esta poderosa :D\n",
            "% Probabilidades:  [1.4825002e-02 5.2797800e-04 9.8464704e-01] Clase predicha:  2 Clase correcta:  2 La red Neuronal esta poderosa :D\n",
            "% Probabilidades:  [0.02304843 0.00432054 0.972631  ] Clase predicha:  2 Clase correcta:  2 La red Neuronal esta poderosa :D\n",
            "% Probabilidades:  [0.3102996  0.00150155 0.68819886] Clase predicha:  2 Clase correcta:  2 La red Neuronal esta poderosa :D\n",
            "% Probabilidades:  [0.27901703 0.6487536  0.07222932] Clase predicha:  1 Clase correcta:  2 La red Neuronal esta barro :(\n",
            "% Probabilidades:  [0.34574372 0.00552024 0.6487361 ] Clase predicha:  2 Clase correcta:  2 La red Neuronal esta poderosa :D\n",
            "% Probabilidades:  [0.07955035 0.0037261  0.9167235 ] Clase predicha:  2 Clase correcta:  2 La red Neuronal esta poderosa :D\n",
            "% Probabilidades:  [0.3364178  0.3887256  0.27485642] Clase predicha:  1 Clase correcta:  2 La red Neuronal esta barro :(\n",
            "% Probabilidades:  [0.32217154 0.00828913 0.6695393 ] Clase predicha:  2 Clase correcta:  2 La red Neuronal esta poderosa :D\n",
            "% Probabilidades:  [0.20864478 0.13963301 0.6517223 ] Clase predicha:  2 Clase correcta:  2 La red Neuronal esta poderosa :D\n",
            "% Probabilidades:  [0.12557931 0.25219384 0.6222269 ] Clase predicha:  2 Clase correcta:  2 La red Neuronal esta poderosa :D\n",
            "% Probabilidades:  [0.39951533 0.12378792 0.47669673] Clase predicha:  2 Clase correcta:  2 La red Neuronal esta poderosa :D\n",
            "% Probabilidades:  [0.01095994 0.00170593 0.9873342 ] Clase predicha:  2 Clase correcta:  2 La red Neuronal esta poderosa :D\n",
            "% Probabilidades:  [0.01446292 0.00111604 0.984421  ] Clase predicha:  2 Clase correcta:  2 La red Neuronal esta poderosa :D\n",
            "% Probabilidades:  [0.08942039 0.03534487 0.8752346 ] Clase predicha:  2 Clase correcta:  2 La red Neuronal esta poderosa :D\n",
            "% Probabilidades:  [0.02568474 0.00725599 0.9670593 ] Clase predicha:  2 Clase correcta:  2 La red Neuronal esta poderosa :D\n",
            "% Probabilidades:  [0.06020581 0.00135621 0.93843794] Clase predicha:  2 Clase correcta:  2 La red Neuronal esta poderosa :D\n",
            "% Probabilidades:  [0.39765438 0.19352743 0.40881822] Clase predicha:  2 Clase correcta:  2 La red Neuronal esta poderosa :D\n",
            "% Probabilidades:  [0.1653172  0.02823662 0.80644614] Clase predicha:  2 Clase correcta:  2 La red Neuronal esta poderosa :D\n",
            "% Probabilidades:  [0.24384272 0.17856911 0.5775881 ] Clase predicha:  2 Clase correcta:  2 La red Neuronal esta poderosa :D\n",
            "% Probabilidades:  [0.14361677 0.31107062 0.54531264] Clase predicha:  2 Clase correcta:  2 La red Neuronal esta poderosa :D\n",
            "% Probabilidades:  [0.09167323 0.31873798 0.5895889 ] Clase predicha:  2 Clase correcta:  2 La red Neuronal esta poderosa :D\n",
            "% Probabilidades:  [0.0249206  0.01745946 0.9576199 ] Clase predicha:  2 Clase correcta:  2 La red Neuronal esta poderosa :D\n",
            "% Probabilidades:  [0.05425489 0.01024174 0.9355033 ] Clase predicha:  2 Clase correcta:  2 La red Neuronal esta poderosa :D\n",
            "% Probabilidades:  [0.3199798  0.01374479 0.6662753 ] Clase predicha:  2 Clase correcta:  2 La red Neuronal esta poderosa :D\n",
            "% Probabilidades:  [0.14763404 0.01062097 0.84174496] Clase predicha:  2 Clase correcta:  2 La red Neuronal esta poderosa :D\n",
            "% Probabilidades:  [0.19484146 0.05733594 0.7478227 ] Clase predicha:  2 Clase correcta:  2 La red Neuronal esta poderosa :D\n",
            "% Probabilidades:  [0.2392898  0.10657784 0.65413237] Clase predicha:  2 Clase correcta:  2 La red Neuronal esta poderosa :D\n",
            "% Probabilidades:  [9.1042921e-02 5.9922773e-04 9.0835780e-01] Clase predicha:  2 Clase correcta:  2 La red Neuronal esta poderosa :D\n",
            "% Probabilidades:  [0.47671357 0.03632467 0.48696172] Clase predicha:  2 Clase correcta:  2 La red Neuronal esta poderosa :D\n",
            "% Probabilidades:  [0.251842   0.00303541 0.7451226 ] Clase predicha:  2 Clase correcta:  2 La red Neuronal esta poderosa :D\n",
            "% Probabilidades:  [0.7272311  0.00651656 0.26625237] Clase predicha:  0 Clase correcta:  2 La red Neuronal esta barro :(\n",
            "% Probabilidades:  [0.34581253 0.01070476 0.64348274] Clase predicha:  2 Clase correcta:  2 La red Neuronal esta poderosa :D\n",
            "% Probabilidades:  [0.31503898 0.00247919 0.6824819 ] Clase predicha:  2 Clase correcta:  2 La red Neuronal esta poderosa :D\n",
            "% Probabilidades:  [0.00947127 0.001334   0.9891947 ] Clase predicha:  2 Clase correcta:  2 La red Neuronal esta poderosa :D\n",
            "% Probabilidades:  [0.2189593  0.00328974 0.7777509 ] Clase predicha:  2 Clase correcta:  2 La red Neuronal esta poderosa :D\n",
            "% Probabilidades:  [0.01097242 0.0028349  0.9861927 ] Clase predicha:  2 Clase correcta:  2 La red Neuronal esta poderosa :D\n",
            "% Probabilidades:  [0.18342385 0.01290525 0.8036709 ] Clase predicha:  2 Clase correcta:  2 La red Neuronal esta poderosa :D\n",
            "% Probabilidades:  [0.01410533 0.02769789 0.9581967 ] Clase predicha:  2 Clase correcta:  2 La red Neuronal esta poderosa :D\n",
            "% Probabilidades:  [0.45310035 0.00140993 0.5454898 ] Clase predicha:  2 Clase correcta:  2 La red Neuronal esta poderosa :D\n",
            "% Probabilidades:  [7.5059836e-03 6.8405713e-04 9.9180996e-01] Clase predicha:  2 Clase correcta:  2 La red Neuronal esta poderosa :D\n",
            "% Probabilidades:  [0.5415265  0.01670265 0.44177094] Clase predicha:  0 Clase correcta:  2 La red Neuronal esta barro :(\n",
            "% Probabilidades:  [0.25383967 0.00307492 0.7430854 ] Clase predicha:  2 Clase correcta:  2 La red Neuronal esta poderosa :D\n",
            "% Probabilidades:  [0.04353883 0.00176794 0.9546932 ] Clase predicha:  2 Clase correcta:  2 La red Neuronal esta poderosa :D\n",
            "% Probabilidades:  [0.5075961  0.06741963 0.42498422] Clase predicha:  0 Clase correcta:  2 La red Neuronal esta barro :(\n",
            "% Probabilidades:  [0.6163876  0.01257003 0.37104234] Clase predicha:  0 Clase correcta:  2 La red Neuronal esta barro :(\n",
            "% Probabilidades:  [0.6169311  0.34645012 0.03661884] Clase predicha:  0 Clase correcta:  2 La red Neuronal esta barro :(\n",
            "% Probabilidades:  [0.12730177 0.00221339 0.87048477] Clase predicha:  2 Clase correcta:  2 La red Neuronal esta poderosa :D\n",
            "% Probabilidades:  [0.11835954 0.01767957 0.86396086] Clase predicha:  2 Clase correcta:  2 La red Neuronal esta poderosa :D\n",
            "% Probabilidades:  [0.4626352  0.19510454 0.34226033] Clase predicha:  0 Clase correcta:  2 La red Neuronal esta barro :(\n",
            "% Probabilidades:  [1.4405660e-01 3.7373984e-04 8.5556960e-01] Clase predicha:  2 Clase correcta:  2 La red Neuronal esta poderosa :D\n",
            "% Probabilidades:  [0.04122785 0.00270051 0.9560716 ] Clase predicha:  2 Clase correcta:  2 La red Neuronal esta poderosa :D\n",
            "% Probabilidades:  [0.12239885 0.00351753 0.8740837 ] Clase predicha:  2 Clase correcta:  2 La red Neuronal esta poderosa :D\n",
            "% Probabilidades:  [0.29179955 0.0036671  0.70453334] Clase predicha:  2 Clase correcta:  2 La red Neuronal esta poderosa :D\n",
            "% Probabilidades:  [0.17409302 0.77193505 0.05397186] Clase predicha:  1 Clase correcta:  2 La red Neuronal esta barro :(\n",
            "% Probabilidades:  [0.07169933 0.0072356  0.9210651 ] Clase predicha:  2 Clase correcta:  2 La red Neuronal esta poderosa :D\n",
            "% Probabilidades:  [0.07221795 0.04667219 0.88110983] Clase predicha:  2 Clase correcta:  2 La red Neuronal esta poderosa :D\n",
            "% Probabilidades:  [0.02879341 0.0847439  0.8864626 ] Clase predicha:  2 Clase correcta:  2 La red Neuronal esta poderosa :D\n",
            "% Probabilidades:  [0.1823432  0.01783644 0.79982054] Clase predicha:  2 Clase correcta:  2 La red Neuronal esta poderosa :D\n",
            "% Probabilidades:  [8.4172711e-02 3.0782897e-04 9.1551942e-01] Clase predicha:  2 Clase correcta:  2 La red Neuronal esta poderosa :D\n",
            "% Probabilidades:  [0.06268162 0.095588   0.8417303 ] Clase predicha:  2 Clase correcta:  2 La red Neuronal esta poderosa :D\n",
            "% Probabilidades:  [0.10018493 0.00308147 0.8967335 ] Clase predicha:  2 Clase correcta:  2 La red Neuronal esta poderosa :D\n",
            "% Probabilidades:  [0.22411436 0.02585121 0.75003433] Clase predicha:  2 Clase correcta:  2 La red Neuronal esta poderosa :D\n",
            "% Probabilidades:  [0.2911088  0.19698626 0.51190495] Clase predicha:  2 Clase correcta:  2 La red Neuronal esta poderosa :D\n",
            "% Probabilidades:  [0.0584343  0.00900399 0.93256164] Clase predicha:  2 Clase correcta:  2 La red Neuronal esta poderosa :D\n",
            "% Probabilidades:  [0.6596749  0.13681294 0.20351225] Clase predicha:  0 Clase correcta:  2 La red Neuronal esta barro :(\n",
            "% Probabilidades:  [0.2573501  0.11907031 0.6235796 ] Clase predicha:  2 Clase correcta:  2 La red Neuronal esta poderosa :D\n",
            "% Probabilidades:  [0.03546919 0.00716681 0.95736396] Clase predicha:  2 Clase correcta:  2 La red Neuronal esta poderosa :D\n",
            "% Probabilidades:  [0.34929392 0.00163091 0.6490751 ] Clase predicha:  2 Clase correcta:  2 La red Neuronal esta poderosa :D\n",
            "% Probabilidades:  [0.0226703  0.06073407 0.9165957 ] Clase predicha:  2 Clase correcta:  2 La red Neuronal esta poderosa :D\n",
            "% Probabilidades:  [0.16839732 0.03023362 0.8013691 ] Clase predicha:  2 Clase correcta:  2 La red Neuronal esta poderosa :D\n",
            "% Probabilidades:  [0.8618989  0.00233705 0.135764  ] Clase predicha:  0 Clase correcta:  2 La red Neuronal esta barro :(\n",
            "% Probabilidades:  [0.03371751 0.02896706 0.93731546] Clase predicha:  2 Clase correcta:  2 La red Neuronal esta poderosa :D\n",
            "% Probabilidades:  [0.12957601 0.02710747 0.8433166 ] Clase predicha:  2 Clase correcta:  2 La red Neuronal esta poderosa :D\n",
            "% Probabilidades:  [0.59737283 0.00686476 0.39576247] Clase predicha:  0 Clase correcta:  2 La red Neuronal esta barro :(\n",
            "% Probabilidades:  [0.01504862 0.01244172 0.9725097 ] Clase predicha:  2 Clase correcta:  2 La red Neuronal esta poderosa :D\n",
            "% Probabilidades:  [0.10390004 0.6545188  0.24158116] Clase predicha:  1 Clase correcta:  2 La red Neuronal esta barro :(\n",
            "% Probabilidades:  [0.546752   0.05904044 0.39420757] Clase predicha:  0 Clase correcta:  2 La red Neuronal esta barro :(\n"
          ]
        }
      ]
    },
    {
      "cell_type": "markdown",
      "source": [
        "## Matriz de confusion para evaluar el rendimiento del modelo"
      ],
      "metadata": {
        "id": "RacbBnyFUk65"
      }
    },
    {
      "cell_type": "markdown",
      "source": [
        "### {'papel':0,'piedra':1,'tijera':2}"
      ],
      "metadata": {
        "id": "mZRT4Z5tVLSy"
      }
    },
    {
      "cell_type": "code",
      "source": [
        "matriz=tf.math.confusion_matrix(clases_prueba, clase_predicha)\n",
        "print('Matriz de confusion: \\n', matriz.numpy())"
      ],
      "metadata": {
        "colab": {
          "base_uri": "https://localhost:8080/"
        },
        "id": "L0tj8Kf4Up7P",
        "outputId": "3988276c-23c9-4533-bbd2-34a51739f594"
      },
      "execution_count": null,
      "outputs": [
        {
          "output_type": "stream",
          "name": "stdout",
          "text": [
            "Matriz de confusion: \n",
            " [[120   8  12]\n",
            " [ 13 119   8]\n",
            " [ 15   6 119]]\n"
          ]
        }
      ]
    },
    {
      "cell_type": "markdown",
      "source": [
        "#Actividad practica\n",
        "\n",
        "\n",
        "1.   Ingresar una o mas imagenes externas al modelo procesadas (>=3 imagenes)\n",
        "2.   Modelo debe predecir a que categoria corresponde la imagen ingresada\n",
        "3. Modelo debe generar de su dataset una imagen con su clase correspondiente\n",
        "4. Comparar ambas etiquetas de las imagenes\n",
        "5. Decidir quien es el ganador con base a las reglas de piedra, papel o tijera.\n",
        "\n"
      ],
      "metadata": {
        "id": "KxQ7qMOnX-NW"
      }
    },
    {
      "cell_type": "markdown",
      "source": [
        "##Importar nuestras imagenes"
      ],
      "metadata": {
        "id": "2by9K_J1NWoB"
      }
    },
    {
      "cell_type": "code",
      "source": [
        "from rembg import remove"
      ],
      "metadata": {
        "id": "in2sjfKDN1x-"
      },
      "execution_count": null,
      "outputs": []
    },
    {
      "cell_type": "code",
      "source": [
        "imagen=Image.open(\"/content/papel.jpg\")\n",
        "imagen=remove(imagen) #remover fondo unicolor\n",
        "imagen=imagen.resize((30,20)) #redimensionar la imagen a 30x20px\n",
        "imagen=imagen.convert('L') #convertir a grises\n",
        "imagen.save(\"papel_ext.png\")"
      ],
      "metadata": {
        "colab": {
          "base_uri": "https://localhost:8080/"
        },
        "id": "OXTrUiqMNbzL",
        "outputId": "a41c4975-fa54-4aec-def8-4e352105dd4c"
      },
      "execution_count": null,
      "outputs": [
        {
          "output_type": "stream",
          "name": "stderr",
          "text": [
            "Downloading data from 'https://github.com/danielgatis/rembg/releases/download/v0.0.0/u2net.onnx' to file '/root/.u2net/u2net.onnx'.\n",
            "100%|████████████████████████████████████████| 176M/176M [00:00<00:00, 112GB/s]\n"
          ]
        }
      ]
    },
    {
      "cell_type": "code",
      "source": [
        "#visualizacion de la imagen procesada de papel\n",
        "imagen=Image.open(\"/content/papel_ext.png\")\n",
        "plt.imshow(imagen,cmap='gray')\n",
        "plt.axis('off')\n",
        "plt.show()"
      ],
      "metadata": {
        "colab": {
          "base_uri": "https://localhost:8080/",
          "height": 367
        },
        "id": "9nJISin2N-0z",
        "outputId": "32589b7f-d10d-4649-ba4e-9b92f9321058"
      },
      "execution_count": null,
      "outputs": [
        {
          "output_type": "display_data",
          "data": {
            "text/plain": [
              "<Figure size 640x480 with 1 Axes>"
            ],
            "image/png": "[encoded data removed]"
          },
          "metadata": {}
        }
      ]
    },
    {
      "cell_type": "markdown",
      "source": [
        "\n",
        "\n",
        "---\n",
        "\n"
      ],
      "metadata": {
        "id": "Nf-rcjJhOqxl"
      }
    },
    {
      "cell_type": "code",
      "source": [
        "imagen=Image.open(\"/content/piedra.jpg\")\n",
        "imagen=remove(imagen) #remover fondo unicolor\n",
        "imagen=imagen.resize((30,20)) #redimensionar la imagen a 30x20px\n",
        "imagen=imagen.convert('L') #convertir a grises\n",
        "imagen.save(\"piedra_ext.png\")"
      ],
      "metadata": {
        "id": "o05wKdrCOs5I"
      },
      "execution_count": null,
      "outputs": []
    },
    {
      "cell_type": "code",
      "source": [
        "#visualizacion de la imagen procesada de piedra\n",
        "imagen=Image.open(\"/content/piedra_ext.png\")\n",
        "plt.imshow(imagen,cmap='gray')\n",
        "plt.axis('off')\n",
        "plt.show()"
      ],
      "metadata": {
        "colab": {
          "base_uri": "https://localhost:8080/",
          "height": 367
        },
        "id": "yJPPC0W-Otut",
        "outputId": "73036d97-c93f-4efe-fda8-c578b86fe171"
      },
      "execution_count": null,
      "outputs": [
        {
          "output_type": "display_data",
          "data": {
            "text/plain": [
              "<Figure size 640x480 with 1 Axes>"
            ],
            "image/png": "[encoded data removed]"
          },
          "metadata": {}
        }
      ]
    },
    {
      "cell_type": "markdown",
      "source": [
        "\n",
        "\n",
        "---\n",
        "\n"
      ],
      "metadata": {
        "id": "Qcv0KzaaO8FS"
      }
    },
    {
      "cell_type": "code",
      "source": [
        "imagen=Image.open(\"/content/tijera.jpg\")\n",
        "imagen=remove(imagen) #remover fondo unicolor\n",
        "imagen=imagen.resize((30,20)) #redimensionar la imagen a 30x20px\n",
        "imagen=imagen.convert('L') #convertir a grises\n",
        "imagen.save(\"tijera_ext.png\")"
      ],
      "metadata": {
        "id": "tJO8wuwcO9We"
      },
      "execution_count": null,
      "outputs": []
    },
    {
      "cell_type": "code",
      "source": [
        "#visualizacion de la imagen procesada de tijera\n",
        "imagen=Image.open(\"/content/tijera_ext.png\")\n",
        "plt.imshow(imagen,cmap='gray')\n",
        "plt.axis('off')\n",
        "plt.show()"
      ],
      "metadata": {
        "colab": {
          "base_uri": "https://localhost:8080/",
          "height": 367
        },
        "id": "GhZEL5kmO-nq",
        "outputId": "79d074b2-b7b7-47f7-d495-cae6e828c6f3"
      },
      "execution_count": null,
      "outputs": [
        {
          "output_type": "display_data",
          "data": {
            "text/plain": [
              "<Figure size 640x480 with 1 Axes>"
            ],
            "image/png": "[encoded data removed]"
          },
          "metadata": {}
        }
      ]
    },
    {
      "cell_type": "markdown",
      "source": [
        "\n",
        "\n",
        "---\n",
        "\n"
      ],
      "metadata": {
        "id": "g7EeqgCePKnJ"
      }
    },
    {
      "cell_type": "markdown",
      "source": [
        "## Ajustes para la prediccion de las categorias de las imagenes externas"
      ],
      "metadata": {
        "id": "lIsb48-xPpOX"
      }
    },
    {
      "cell_type": "code",
      "source": [
        "imagen_externa=Image.open(\"/content/piedra_ext.png\").resize((30,20))\n",
        "imagen_externa_array=np.array(imagen_externa)/255\n",
        "\n",
        "#asegurarnos que nuestra imagen tiene la forma correcta\n",
        "imagen_externa_array = np.expand_dims(imagen_externa_array, axis=0)\n",
        "\n",
        "#prediccion_externa=modelo.predict(imagen_externa_array.reshape(1,20,30))\n",
        "prediccion_externa=modelo.predict(imagen_externa_array)\n",
        "clase_predicha_externa=np.argmax(prediccion_externa)"
      ],
      "metadata": {
        "colab": {
          "base_uri": "https://localhost:8080/"
        },
        "id": "uwHVgGzuPst1",
        "outputId": "2f983956-da4f-4878-a394-81cfe745d9e8"
      },
      "execution_count": null,
      "outputs": [
        {
          "output_type": "stream",
          "name": "stdout",
          "text": [
            "1/1 [==============================] - 0s 84ms/step\n"
          ]
        }
      ]
    },
    {
      "cell_type": "code",
      "source": [
        "print('clase predicha de la imagen ingresada: ',clase_predicha_externa)"
      ],
      "metadata": {
        "colab": {
          "base_uri": "https://localhost:8080/"
        },
        "id": "YdDtWmrCSbH-",
        "outputId": "e060d691-79e0-419b-9548-ff0ce5c8dd71"
      },
      "execution_count": null,
      "outputs": [
        {
          "output_type": "stream",
          "name": "stdout",
          "text": [
            "clase predicha de la imagen ingresada:  2\n"
          ]
        }
      ]
    },
    {
      "cell_type": "code",
      "source": [
        "#Visualizar la imagen externa\n",
        "plt.imshow(np.squeeze(imagen_externa_array),cmap='gray')\n",
        "plt.title(f'Clase predicha: {descripcion[clase_predicha_externa]}')\n",
        "plt.axis('off')\n",
        "plt.show()"
      ],
      "metadata": {
        "colab": {
          "base_uri": "https://localhost:8080/",
          "height": 389
        },
        "id": "v1sEHlePTE_v",
        "outputId": "6213ad6b-4083-4dab-9496-a3830ab37af4"
      },
      "execution_count": null,
      "outputs": [
        {
          "output_type": "display_data",
          "data": {
            "text/plain": [
              "<Figure size 640x480 with 1 Axes>"
            ],
            "image/png": "[encoded data removed]"
          },
          "metadata": {}
        }
      ]
    },
    {
      "cell_type": "markdown",
      "source": [
        "## Escogencia de una imagen aleatoria del dataset de prueba por parte del modelo"
      ],
      "metadata": {
        "id": "kIXS41dMUonr"
      }
    },
    {
      "cell_type": "code",
      "source": [
        "print(len(imagenes_prueba))"
      ],
      "metadata": {
        "colab": {
          "base_uri": "https://localhost:8080/"
        },
        "id": "whpNxdq1VPRU",
        "outputId": "e31b362c-a775-4fff-838b-a788c057b78d"
      },
      "execution_count": null,
      "outputs": [
        {
          "output_type": "stream",
          "name": "stdout",
          "text": [
            "420\n"
          ]
        }
      ]
    },
    {
      "cell_type": "code",
      "source": [
        "#seleccionar una imagen aleatoria\n",
        "indice_aleatorio=random.randint(0,len(imagenes_prueba)-1)\n",
        "print(indice_aleatorio)\n",
        "imagen_seleccionada=imagenes_prueba[indice_aleatorio]\n",
        "clase_real=clases_prueba[indice_aleatorio]\n",
        "\n",
        "prediccion=modelo.predict(np.expand_dims(imagen_seleccionada, axis=0))\n",
        "clase_predicha=np.argmax(prediccion)"
      ],
      "metadata": {
        "colab": {
          "base_uri": "https://localhost:8080/"
        },
        "id": "ERyReNPJUvmM",
        "outputId": "8bfece9a-8d0a-4c3c-8af8-fe11c07ca8de"
      },
      "execution_count": null,
      "outputs": [
        {
          "output_type": "stream",
          "name": "stdout",
          "text": [
            "60\n",
            "1/1 [==============================] - 0s 32ms/step\n"
          ]
        }
      ]
    },
    {
      "cell_type": "code",
      "source": [
        "plt.imshow(imagen_seleccionada,cmap='gray')\n",
        "plt.title(f'Clase real: {descripcion[clase_real]}, Clase predicha:{descripcion[clase_predicha]}')\n",
        "plt.axis('off')\n",
        "plt.show()"
      ],
      "metadata": {
        "colab": {
          "base_uri": "https://localhost:8080/",
          "height": 389
        },
        "id": "s3H6SxjTWX6i",
        "outputId": "fc6e9dfb-88a8-4d80-df00-820c2c3c3305"
      },
      "execution_count": null,
      "outputs": [
        {
          "output_type": "display_data",
          "data": {
            "text/plain": [
              "<Figure size 640x480 with 1 Axes>"
            ],
            "image/png": "[encoded data removed]"
          },
          "metadata": {}
        }
      ]
    },
    {
      "cell_type": "markdown",
      "source": [
        "##Crear las reglas para el juego piedra, papel, tijera"
      ],
      "metadata": {
        "id": "EwfwQMbhXR0w"
      }
    },
    {
      "cell_type": "code",
      "source": [
        "def evaluar_juego(clase1,clase2):\n",
        "  if clase1==clase2:\n",
        "    return 'Empate'\n",
        "  elif (clase1==0 and clase2==1) or (clase1==1 and clase2==2) or (clase1==2 and clase2==0):\n",
        "    return 'IA Gana'\n",
        "  else:\n",
        "    return 'Jugador Gana'"
      ],
      "metadata": {
        "id": "4O24r6iaXQ-t"
      },
      "execution_count": null,
      "outputs": []
    },
    {
      "cell_type": "code",
      "source": [
        "resultado=evaluar_juego(clase_predicha,clase_predicha_externa)\n",
        "#mostrar los resultados\n",
        "print(f'Eleccion de la IA: {descripcion[clase_predicha]}')\n",
        "print(f'Eleccion del Jugador: {descripcion[clase_predicha_externa]}')\n",
        "print(f'Resultado del juego: {resultado}')"
      ],
      "metadata": {
        "colab": {
          "base_uri": "https://localhost:8080/"
        },
        "id": "MikqCmBAZcFA",
        "outputId": "7c6551cd-6090-40f4-dd1f-d63619cebb13"
      },
      "execution_count": null,
      "outputs": [
        {
          "output_type": "stream",
          "name": "stdout",
          "text": [
            "Eleccion de la IA: papel\n",
            "Eleccion del Jugador: piedra\n",
            "Resultado del juego: IA Gana\n"
          ]
        }
      ]
    },
    {
      "cell_type": "code",
      "source": [],
      "metadata": {
        "id": "aV7G1apYZ5le"
      },
      "execution_count": null,
      "outputs": []
    }
  ]
}